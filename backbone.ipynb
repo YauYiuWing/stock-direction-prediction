{
 "cells": [
  {
   "cell_type": "code",
   "execution_count": 41,
   "metadata": {},
   "outputs": [],
   "source": [
    "import yfinance as yf\n",
    "import pandas as pd\n",
    "from ta import add_all_ta_features\n",
    "from ta.utils import dropna\n",
    "from statsmodels.tsa.stattools import adfuller\n",
    "import matplotlib.pyplot as plt\n",
    "import ta\n",
    "import talib\n",
    "from fracdiff.sklearn import Fracdiff\n",
    "import numpy as np\n"
   ]
  },
  {
   "cell_type": "code",
   "execution_count": 42,
   "metadata": {},
   "outputs": [
    {
     "name": "stderr",
     "output_type": "stream",
     "text": [
      "c:\\Conda\\Lib\\site-packages\\yfinance\\utils.py:775: FutureWarning: The 'unit' keyword in TimedeltaIndex construction is deprecated and will be removed in a future version. Use pd.to_timedelta instead.\n",
      "  df.index += _pd.TimedeltaIndex(dst_error_hours, 'h')\n",
      "[*********************100%%**********************]  1 of 1 completed\n"
     ]
    }
   ],
   "source": [
    "aapl = yf.download('AAPL', start='2018-01-01', end='2024-01-01')"
   ]
  },
  {
   "cell_type": "code",
   "execution_count": 43,
   "metadata": {},
   "outputs": [
    {
     "name": "stderr",
     "output_type": "stream",
     "text": [
      "c:\\Conda\\Lib\\site-packages\\ta\\trend.py:1030: FutureWarning: Series.__setitem__ treating keys as positions is deprecated. In a future version, integer keys will always be treated as labels (consistent with DataFrame behavior). To set a value by position, use `ser.iloc[pos] = value`\n",
      "  self._psar[i] = high2\n"
     ]
    }
   ],
   "source": [
    "aapl = add_all_ta_features(\n",
    "    aapl, open=\"Open\", high=\"High\", low=\"Low\", close=\"Close\", volume=\"Volume\", fillna=True)"
   ]
  },
  {
   "cell_type": "code",
   "execution_count": 44,
   "metadata": {},
   "outputs": [],
   "source": [
    "# Initialize the Fracdiff object\n",
    "fd = Fracdiff(0.8)\n",
    "\n",
    "# Apply fractional differencing to the 'Close' price\n",
    "aapl['Close_fdiff'] = fd.fit_transform(aapl[['Close']].values)"
   ]
  },
  {
   "cell_type": "code",
   "execution_count": 45,
   "metadata": {},
   "outputs": [
    {
     "data": {
      "text/plain": [
       "Index(['Open', 'High', 'Low', 'Close', 'Adj Close', 'Volume', 'volume_adi',\n",
       "       'volume_obv', 'volume_cmf', 'volume_fi', 'volume_em', 'volume_sma_em',\n",
       "       'volume_vpt', 'volume_vwap', 'volume_mfi', 'volume_nvi',\n",
       "       'volatility_bbm', 'volatility_bbh', 'volatility_bbl', 'volatility_bbw',\n",
       "       'volatility_bbp', 'volatility_bbhi', 'volatility_bbli',\n",
       "       'volatility_kcc', 'volatility_kch', 'volatility_kcl', 'volatility_kcw',\n",
       "       'volatility_kcp', 'volatility_kchi', 'volatility_kcli',\n",
       "       'volatility_dcl', 'volatility_dch', 'volatility_dcm', 'volatility_dcw',\n",
       "       'volatility_dcp', 'volatility_atr', 'volatility_ui', 'trend_macd',\n",
       "       'trend_macd_signal', 'trend_macd_diff', 'trend_sma_fast',\n",
       "       'trend_sma_slow', 'trend_ema_fast', 'trend_ema_slow',\n",
       "       'trend_vortex_ind_pos', 'trend_vortex_ind_neg', 'trend_vortex_ind_diff',\n",
       "       'trend_trix', 'trend_mass_index', 'trend_dpo', 'trend_kst',\n",
       "       'trend_kst_sig', 'trend_kst_diff', 'trend_ichimoku_conv',\n",
       "       'trend_ichimoku_base', 'trend_ichimoku_a', 'trend_ichimoku_b',\n",
       "       'trend_stc', 'trend_adx', 'trend_adx_pos', 'trend_adx_neg', 'trend_cci',\n",
       "       'trend_visual_ichimoku_a', 'trend_visual_ichimoku_b', 'trend_aroon_up',\n",
       "       'trend_aroon_down', 'trend_aroon_ind', 'trend_psar_up',\n",
       "       'trend_psar_down', 'trend_psar_up_indicator',\n",
       "       'trend_psar_down_indicator', 'momentum_rsi', 'momentum_stoch_rsi',\n",
       "       'momentum_stoch_rsi_k', 'momentum_stoch_rsi_d', 'momentum_tsi',\n",
       "       'momentum_uo', 'momentum_stoch', 'momentum_stoch_signal', 'momentum_wr',\n",
       "       'momentum_ao', 'momentum_roc', 'momentum_ppo', 'momentum_ppo_signal',\n",
       "       'momentum_ppo_hist', 'momentum_pvo', 'momentum_pvo_signal',\n",
       "       'momentum_pvo_hist', 'momentum_kama', 'others_dr', 'others_dlr',\n",
       "       'others_cr', 'Close_fdiff'],\n",
       "      dtype='object')"
      ]
     },
     "execution_count": 45,
     "metadata": {},
     "output_type": "execute_result"
    }
   ],
   "source": [
    "aapl.columns"
   ]
  },
  {
   "cell_type": "code",
   "execution_count": 46,
   "metadata": {},
   "outputs": [
    {
     "name": "stdout",
     "output_type": "stream",
     "text": [
      "Open 0.901557554078549\n",
      "High 0.8810647957472416\n",
      "Low 0.887003127050867\n",
      "Close 0.8822398141495197\n",
      "Adj Close 0.8896865595468458\n",
      "Volume 8.665487652094114e-05\n",
      "volume_adi 0.9308194995060273\n",
      "volume_obv 0.2726040054107609\n",
      "volume_cmf 7.207910354946902e-06\n",
      "volume_fi 8.029142687733171e-13\n",
      "volume_em 2.9069128265647406e-28\n",
      "volume_sma_em 2.4586008844819504e-11\n",
      "volume_vpt 0.6182819062353744\n",
      "volume_vwap 0.8800141320053836\n",
      "volume_mfi 4.0008060204326935e-10\n",
      "volume_nvi 0.9497121899735641\n",
      "volatility_bbm 0.8900706567179949\n",
      "volatility_bbh 0.8564688652842396\n",
      "volatility_bbl 0.929455163422092\n",
      "volatility_bbw 1.1904026049225717e-05\n",
      "volatility_bbp 3.2700578921042417e-16\n",
      "volatility_bbhi 0.0\n",
      "volatility_bbli 5.4121157769203655e-24\n",
      "volatility_kcc 0.8669328555186192\n",
      "volatility_kch 0.875136214140098\n",
      "volatility_kcl 0.8758248125671266\n",
      "volatility_kcw 0.0010538640034443382\n",
      "volatility_kcp 5.287555415873231e-15\n",
      "volatility_kchi 1.707193818269719e-27\n",
      "volatility_kcli 1.480882943663117e-20\n",
      "volatility_dcl 0.9018573662218577\n",
      "volatility_dch 0.8820977417863498\n",
      "volatility_dcm 0.8953948788564787\n",
      "volatility_dcw 8.355017425504863e-05\n",
      "volatility_dcp 1.9191376600323202e-14\n",
      "volatility_atr 0.04922298119684873\n",
      "volatility_ui 4.4588113886565493e-07\n",
      "trend_macd 3.252921056581277e-08\n",
      "trend_macd_signal 1.6755036239576124e-08\n",
      "trend_macd_diff 8.085497542201427e-15\n",
      "trend_sma_fast 0.9205493281811159\n",
      "trend_sma_slow 0.9313864696567156\n",
      "trend_ema_fast 0.8993130457792313\n",
      "trend_ema_slow 0.9052816074476646\n",
      "trend_vortex_ind_pos 2.1192518909804283e-09\n",
      "trend_vortex_ind_neg 3.413181813179735e-09\n",
      "trend_vortex_ind_diff 1.8160100463051158e-10\n",
      "trend_trix 7.971551556674083e-07\n",
      "trend_mass_index 5.76649927958695e-08\n",
      "trend_dpo 0.0\n",
      "trend_kst 2.5609272517500197e-08\n",
      "trend_kst_sig 6.141364201036126e-08\n",
      "trend_kst_diff 3.4129352121887545e-13\n",
      "trend_ichimoku_conv 0.9008042154881796\n",
      "trend_ichimoku_base 0.9073081638720106\n",
      "trend_ichimoku_a 0.866866550078352\n",
      "trend_ichimoku_b 0.8996535120341239\n",
      "trend_stc 6.371366270527494e-18\n",
      "trend_adx 5.504548967942271e-07\n",
      "trend_adx_pos 4.6858790326811395e-11\n",
      "trend_adx_neg 6.1481054199129e-10\n",
      "trend_cci 2.1661538864682442e-14\n",
      "trend_visual_ichimoku_a 0.95071696583583\n",
      "trend_visual_ichimoku_b 0.9642756771611347\n",
      "trend_aroon_up 1.1457183197618413e-10\n",
      "trend_aroon_down 1.2522918203346824e-10\n",
      "trend_aroon_ind 1.3956808210199325e-09\n",
      "trend_psar_up 0.904110143334782\n",
      "trend_psar_down 0.8881092253891518\n",
      "trend_psar_up_indicator 8.099394019397768e-22\n",
      "trend_psar_down_indicator 1.9225509583822156e-19\n",
      "momentum_rsi 9.942315148697966e-16\n",
      "momentum_stoch_rsi 6.092389635786128e-14\n",
      "momentum_stoch_rsi_k 5.595829957237772e-14\n",
      "momentum_stoch_rsi_d 1.0293220891023877e-13\n",
      "momentum_tsi 6.035985226915534e-09\n",
      "momentum_uo 1.6222166312862194e-09\n",
      "momentum_stoch 6.675347779588447e-10\n",
      "momentum_stoch_signal 2.0109876117569782e-07\n",
      "momentum_wr 6.67534777958937e-10\n",
      "momentum_ao 4.040141344353216e-09\n",
      "momentum_roc 3.000021449993317e-07\n",
      "momentum_ppo 6.820019431962372e-07\n",
      "momentum_ppo_signal 2.879617798610597e-07\n",
      "momentum_ppo_hist 1.0130645291405005e-14\n",
      "momentum_pvo 2.662486939637854e-16\n",
      "momentum_pvo_signal 3.0178363124755583e-14\n",
      "momentum_pvo_hist 3.80767377966062e-21\n",
      "momentum_kama 0.8931116123441143\n",
      "others_dr 9.187003667810291e-23\n",
      "others_dlr 1.4622064684275277e-22\n",
      "others_cr 0.8822398141495174\n",
      "Close_fdiff 0.08619709251325902\n"
     ]
    }
   ],
   "source": [
    "for indicator in aapl.columns:\n",
    "    print(indicator, adfuller(aapl[indicator])[1])\n",
    "    if adfuller(aapl[indicator])[1] < 0.1:\n",
    "        aapl.drop(columns=indicator)"
   ]
  },
  {
   "cell_type": "code",
   "execution_count": 47,
   "metadata": {},
   "outputs": [],
   "source": [
    "from sklearn.preprocessing import MinMaxScaler\n",
    "\n",
    "scaler = MinMaxScaler()\n",
    "data_scaled = scaler.fit_transform(aapl)"
   ]
  },
  {
   "cell_type": "code",
   "execution_count": 48,
   "metadata": {},
   "outputs": [],
   "source": [
    "price_diff = np.diff(aapl['Close'].values)\n",
    "# Label is 1 if the difference is positive, and 0 otherwise\n",
    "labels = (price_diff > 0).astype(int)"
   ]
  },
  {
   "cell_type": "code",
   "execution_count": 49,
   "metadata": {},
   "outputs": [],
   "source": [
    "aapl['diff'] = aapl['Close'].diff()\n",
    "aapl['label'] = np.where(aapl['diff'] > 0, 1, 0)\n",
    "aapl = aapl.dropna()"
   ]
  },
  {
   "cell_type": "code",
   "execution_count": 50,
   "metadata": {},
   "outputs": [],
   "source": [
    "label = aapl['label'].tolist()"
   ]
  },
  {
   "cell_type": "code",
   "execution_count": 51,
   "metadata": {},
   "outputs": [],
   "source": [
    "# Determine the split point\n",
    "split_point = int(len(data_scaled) * 0.95)  # 80% for training, 20% for testing\n",
    "\n",
    "# Split the data_scaled\n",
    "train_data = data_scaled[:split_point]\n",
    "test_data = data_scaled[split_point-59:]\n",
    "\n",
    "# The labels should also be split accordingly\n",
    "train_labels = labels[:split_point]\n",
    "test_labels = labels[split_point-59:]"
   ]
  },
  {
   "cell_type": "code",
   "execution_count": 52,
   "metadata": {},
   "outputs": [],
   "source": [
    "import torch\n",
    "from torch.utils.data import Dataset, DataLoader\n",
    "\n",
    "class StockDataset(Dataset):\n",
    "    def __init__(self, features, labels):\n",
    "        self.features = features\n",
    "        self.labels = labels\n",
    "\n",
    "    def __len__(self):\n",
    "        return len(self.labels)\n",
    "\n",
    "    def __getitem__(self, idx):\n",
    "        return self.features[idx], self.labels[idx]\n",
    "\n",
    "# Assuming you want to predict based on the past 60 days of data\n",
    "SEQ_LEN = 60\n",
    "X = []\n",
    "y = []\n",
    "\n",
    "for i in range(SEQ_LEN, len(train_data)):\n",
    "    X.append(train_data[i-SEQ_LEN:i])  # 60 days of features\n",
    "    y.append(train_labels[i-1])  # Corresponding label\n",
    "\n",
    "# Convert to numpy arrays\n",
    "X = np.array(X)\n",
    "y = np.array(y)\n",
    "\n",
    "# Convert to PyTorch tensors\n",
    "X_tensor = torch.tensor(X, dtype=torch.float32)\n",
    "y_tensor = torch.tensor(y, dtype=torch.float32)\n",
    "\n",
    "# Create the dataset\n",
    "dataset = StockDataset(X_tensor, y_tensor)\n",
    "\n",
    "# Create the DataLoader\n",
    "dataloader = DataLoader(dataset, batch_size=32, shuffle=False)"
   ]
  },
  {
   "cell_type": "code",
   "execution_count": 53,
   "metadata": {},
   "outputs": [],
   "source": [
    "SEQ_LEN = 60\n",
    "X = []\n",
    "y = []\n",
    "\n",
    "for i in range(SEQ_LEN, len(test_data)):\n",
    "    X.append(test_data[i-SEQ_LEN:i])  # 60 days of features\n",
    "    y.append(test_labels[i-1])  # Corresponding label\n",
    "\n",
    "# Convert to numpy arrays\n",
    "X = np.array(X)\n",
    "y = np.array(y)\n",
    "\n",
    "# Convert to PyTorch tensors\n",
    "X_tensor = torch.tensor(X, dtype=torch.float32)\n",
    "y_tensor = torch.tensor(y, dtype=torch.float32)\n",
    "\n",
    "# Create the dataset\n",
    "dataset = StockDataset(X_tensor, y_tensor)\n",
    "\n",
    "# Create the DataLoader\n",
    "testloader = DataLoader(dataset, batch_size=32, shuffle=False)"
   ]
  },
  {
   "cell_type": "code",
   "execution_count": 54,
   "metadata": {},
   "outputs": [],
   "source": [
    "import torch.nn as nn\n",
    "\n",
    "class StockPredictor(nn.Module):\n",
    "    def __init__(self, num_features, hidden_units, num_layers):\n",
    "        super(StockPredictor, self).__init__()\n",
    "        self.lstm = nn.LSTM(num_features, hidden_units, num_layers, batch_first=True)\n",
    "        self.fc = nn.Linear(hidden_units, 1)\n",
    "\n",
    "    def forward(self, x):\n",
    "        _, (h_n, _) = self.lstm(x)\n",
    "        out = self.fc(h_n[-1])\n",
    "        return torch.sigmoid(out)\n",
    "\n",
    "# Define the model\n",
    "num_features = X.shape[-1]  # Number of features\n",
    "hidden_units = 100  # Number of hidden units\n",
    "num_layers = 2  # Number of LSTM layers\n",
    "\n"
   ]
  },
  {
   "cell_type": "code",
   "execution_count": 55,
   "metadata": {},
   "outputs": [
    {
     "name": "stdout",
     "output_type": "stream",
     "text": [
      "Epoch [10/110], Loss: 0.6774, minimum Loss: 0.6720\n",
      "Epoch [20/110], Loss: 0.6312, minimum Loss: 0.6212\n",
      "Epoch [30/110], Loss: 0.5958, minimum Loss: 0.5399\n",
      "Epoch [40/110], Loss: 0.5130, minimum Loss: 0.4871\n",
      "Epoch [50/110], Loss: 0.5436, minimum Loss: 0.4275\n",
      "Epoch [60/110], Loss: 0.3868, minimum Loss: 0.3674\n",
      "Epoch [70/110], Loss: 0.3674, minimum Loss: 0.3399\n",
      "Epoch [80/110], Loss: 0.4104, minimum Loss: 0.2642\n",
      "Epoch [90/110], Loss: 0.1897, minimum Loss: 0.1600\n",
      "Epoch [100/110], Loss: 0.1152, minimum Loss: 0.1152\n",
      "Epoch [110/110], Loss: 0.0910, minimum Loss: 0.0808\n"
     ]
    }
   ],
   "source": [
    "model = StockPredictor(num_features, hidden_units, num_layers)\n",
    "\n",
    "# Define loss function and optimizer\n",
    "criterion = nn.BCELoss()\n",
    "optimizer = torch.optim.Adam(model.parameters(), lr=0.001)\n",
    "\n",
    "minLossModel = StockPredictor(num_features, hidden_units, num_layers)\n",
    "# Training loop\n",
    "num_epochs = 110\n",
    "min_loss = 1\n",
    "epochLoss = []\n",
    "for epoch in range(num_epochs):\n",
    "    for features, labels in dataloader:\n",
    "        # Forward pass\n",
    "        predictions = model(features).squeeze()\n",
    "        loss = criterion(predictions, labels)\n",
    "\n",
    "        # Backward pass and optimization\n",
    "        optimizer.zero_grad()\n",
    "        loss.backward()\n",
    "        optimizer.step()\n",
    "\n",
    "    epochLoss.append(loss.item())\n",
    "    if loss.item() < min_loss:\n",
    "        min_loss = loss.item()\n",
    "        minLossModel = model\n",
    "\n",
    "    if (epoch+1) % 10 == 0:\n",
    "        print(f'Epoch [{epoch+1}/{num_epochs}], Loss: {loss.item():.4f}, minimum Loss: {min_loss:.4f}')\n",
    "\n",
    "# Save the model\n",
    "torch.save(model.state_dict(), 'stock_predictor.pth')"
   ]
  },
  {
   "cell_type": "code",
   "execution_count": 56,
   "metadata": {},
   "outputs": [
    {
     "data": {
      "text/plain": [
       "\"num_epochs = 100\\nfor epoch in range(num_epochs):\\n    for features, labels in dataloader:\\n        # Forward pass\\n        predictions = model(features).squeeze()\\n        loss = criterion(predictions, labels)\\n\\n        # Backward pass and optimization\\n        optimizer.zero_grad()\\n        loss.backward()\\n        optimizer.step()\\n\\n    epochLoss.append(loss.item())\\n    if loss.item() < min_loss:\\n        min_loss = loss.item()\\n        minLossModel = model\\n\\n    if (epoch+1) % 10 == 0:\\n        print(f'Epoch [{epoch+1}/{num_epochs}], Loss: {loss.item():.4f}, minimum Loss: {min_loss:.4f}')\\n\\n# Save the model\\ntorch.save(model.state_dict(), 'stock_predictor.pth')\""
      ]
     },
     "execution_count": 56,
     "metadata": {},
     "output_type": "execute_result"
    }
   ],
   "source": [
    "\"\"\"num_epochs = 100\n",
    "for epoch in range(num_epochs):\n",
    "    for features, labels in dataloader:\n",
    "        # Forward pass\n",
    "        predictions = model(features).squeeze()\n",
    "        loss = criterion(predictions, labels)\n",
    "\n",
    "        # Backward pass and optimization\n",
    "        optimizer.zero_grad()\n",
    "        loss.backward()\n",
    "        optimizer.step()\n",
    "\n",
    "    epochLoss.append(loss.item())\n",
    "    if loss.item() < min_loss:\n",
    "        min_loss = loss.item()\n",
    "        minLossModel = model\n",
    "\n",
    "    if (epoch+1) % 10 == 0:\n",
    "        print(f'Epoch [{epoch+1}/{num_epochs}], Loss: {loss.item():.4f}, minimum Loss: {min_loss:.4f}')\n",
    "\n",
    "# Save the model\n",
    "torch.save(model.state_dict(), 'stock_predictor.pth')\"\"\""
   ]
  },
  {
   "cell_type": "code",
   "execution_count": 57,
   "metadata": {},
   "outputs": [
    {
     "name": "stdout",
     "output_type": "stream",
     "text": [
      "[0.7804641  0.7953775  0.6718245  0.39557683 0.04866076 0.04171155\n",
      " 0.15078358 0.07913742 0.25213447 0.04963768 0.99314195 0.78226984\n",
      " 0.8488925  0.80840045 0.43076295 0.9045506  0.9582473  0.97033036\n",
      " 0.9552874  0.98723084 0.99438477 0.987128   0.96967983 0.93514395\n",
      " 0.56304747 0.20982397 0.2929553  0.9654543  0.90854967 0.16434371\n",
      " 0.02793315 0.1723377  0.99069315 0.05680815 0.6292861  0.15787438\n",
      " 0.01830556 0.97792804 0.24349847 0.7646887  0.9893807  0.9980147\n",
      " 0.9575254  0.0185447  0.00140893 0.02936155 0.9302451  0.05109991\n",
      " 0.00398277 0.560532   0.26805642 0.02267057 0.57810664 0.9302849\n",
      " 0.9372716  0.9186863  0.8238041  0.42614412 0.56734    0.526867\n",
      " 0.84190995 0.94048774 0.75484014 0.27425086 0.14404629 0.06374796\n",
      " 0.5708749  0.05544184 0.04728172 0.19774984 0.92273957 0.9339024\n",
      " 0.7786178  0.30381468 0.40807545] [1 0 1 1 0 0 1 1 0 0 1 1 1 0 1 1 1 1 0 1 1 0 0 0 0 0 0 1 1 0 0 1 1 1 1 1 0\n",
      " 1 1 1 0 1 0 1 1 1 0 1 0 1 0 0 1 0 1 1 0 1 0 1 1 0 1 1 1 0 0 1 0 0 0 0 1 1\n",
      " 0]\n",
      "0.5466666666666666 0.65\n"
     ]
    }
   ],
   "source": [
    "# Make sure to call minLossModel.eval() when evaluating/predicting to set dropout and batch normalization layers to evaluation mode\n",
    "\n",
    "minLossModel.eval()\n",
    "\n",
    "# List to hold predictions\n",
    "predictions = []\n",
    "\n",
    "# No need to track gradients when predicting\n",
    "with torch.no_grad():\n",
    "    for features, labels in testloader:\n",
    "        # Forward pass\n",
    "        output = minLossModel(features).squeeze()\n",
    "        predictions.append(output.cpu().numpy())\n",
    "\n",
    "# Concatenate all batches\n",
    "predictions = np.concatenate(predictions, axis=0)\n",
    "\n",
    "print(predictions, test_labels[59:])\n",
    "predictlabels = (predictions > 0.5).astype(int)\n",
    "accurate = (predictlabels == test_labels[59:]).astype(int)\n",
    "print(sum(accurate) / len(accurate),sum(accurate[:20]) / len(accurate[:20]))"
   ]
  },
  {
   "cell_type": "code",
   "execution_count": 58,
   "metadata": {},
   "outputs": [
    {
     "data": {
      "text/plain": [
       "0.8"
      ]
     },
     "execution_count": 58,
     "metadata": {},
     "output_type": "execute_result"
    }
   ],
   "source": [
    "count = 0\n",
    "total = 0\n",
    "for i in range(20):\n",
    "    if predictions[i] < 0.1:\n",
    "        count +=1\n",
    "        if test_labels[59+i] == 0:\n",
    "            total += 1\n",
    "    elif predictions[i] > 0.9:\n",
    "        count+=1\n",
    "        if test_labels[59+i] == 1:\n",
    "            total+=1\n",
    "\n",
    "total / count\n",
    "\n"
   ]
  },
  {
   "cell_type": "code",
   "execution_count": 59,
   "metadata": {},
   "outputs": [
    {
     "data": {
      "text/plain": [
       "10"
      ]
     },
     "execution_count": 59,
     "metadata": {},
     "output_type": "execute_result"
    }
   ],
   "source": [
    "count"
   ]
  },
  {
   "cell_type": "markdown",
   "metadata": {},
   "source": []
  },
  {
   "cell_type": "code",
   "execution_count": 60,
   "metadata": {},
   "outputs": [
    {
     "data": {
      "text/plain": [
       "[<matplotlib.lines.Line2D at 0x2026102a290>]"
      ]
     },
     "execution_count": 60,
     "metadata": {},
     "output_type": "execute_result"
    },
    {
     "data": {
      "image/png": "[encoded data removed]",
      "text/plain": [
       "<Figure size 640x480 with 1 Axes>"
      ]
     },
     "metadata": {},
     "output_type": "display_data"
    }
   ],
   "source": [
    "plt.plot(epochLoss)"
   ]
  }
 ],
 "metadata": {
  "kernelspec": {
   "display_name": "base",
   "language": "python",
   "name": "python3"
  },
  "language_info": {
   "codemirror_mode": {
    "name": "ipython",
    "version": 3
   },
   "file_extension": ".py",
   "mimetype": "text/x-python",
   "name": "python",
   "nbconvert_exporter": "python",
   "pygments_lexer": "ipython3",
   "version": "3.11.5"
  },
  "orig_nbformat": 4
 },
 "nbformat": 4,
 "nbformat_minor": 2
}
