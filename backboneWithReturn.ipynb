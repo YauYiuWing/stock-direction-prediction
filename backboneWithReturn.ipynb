{
 "cells": [
  {
   "cell_type": "markdown",
   "metadata": {},
   "source": [
    "# Import Libraries"
   ]
  },
  {
   "cell_type": "code",
   "execution_count": 6,
   "metadata": {},
   "outputs": [],
   "source": [
    "import yfinance as yf\n",
    "import pandas as pd\n",
    "from ta import add_all_ta_features\n",
    "from ta.utils import dropna\n",
    "from statsmodels.tsa.stattools import adfuller\n",
    "import matplotlib.pyplot as plt\n",
    "from fracdiff.sklearn import FracdiffStat\n",
    "import numpy as np"
   ]
  },
  {
   "cell_type": "markdown",
   "metadata": {},
   "source": [
    "# Download data"
   ]
  },
  {
   "cell_type": "code",
   "execution_count": 7,
   "metadata": {},
   "outputs": [
    {
     "name": "stderr",
     "output_type": "stream",
     "text": [
      "c:\\Users\\markm\\miniconda3\\lib\\site-packages\\yfinance\\utils.py:775: FutureWarning: The 'unit' keyword in TimedeltaIndex construction is deprecated and will be removed in a future version. Use pd.to_timedelta instead.\n",
      "  df.index += _pd.TimedeltaIndex(dst_error_hours, 'h')\n",
      "[*********************100%%**********************]  1 of 1 completed\n"
     ]
    }
   ],
   "source": [
    "aapl = yf.download('AAPL', start='2018-01-01', end='2024-01-01')"
   ]
  },
  {
   "cell_type": "code",
   "execution_count": 8,
   "metadata": {},
   "outputs": [
    {
     "name": "stderr",
     "output_type": "stream",
     "text": [
      "c:\\Users\\markm\\miniconda3\\lib\\site-packages\\yfinance\\utils.py:775: FutureWarning: The 'unit' keyword in TimedeltaIndex construction is deprecated and will be removed in a future version. Use pd.to_timedelta instead.\n",
      "  df.index += _pd.TimedeltaIndex(dst_error_hours, 'h')\n",
      "[*********************100%%**********************]  1 of 1 completed\n",
      "C:\\Users\\markm\\AppData\\Local\\Temp\\ipykernel_20236\\859413952.py:4: FutureWarning: Series.fillna with 'method' is deprecated and will raise in a future version. Use obj.ffill() or obj.bfill() instead.\n",
      "  aapl['SP500'] = sp500['Close'].reindex(aapl.index).fillna(method='ffill')\n"
     ]
    }
   ],
   "source": [
    "sp500 = yf.download('^GSPC', start='2018-01-01', end='2024-01-01')\n",
    "\n",
    "# Align AAPL data with S&P 500 data\n",
    "aapl['SP500'] = sp500['Close'].reindex(aapl.index).fillna(method='ffill')\n",
    "aapl['SP500_diff'] = aapl['SP500'].diff()\n"
   ]
  },
  {
   "cell_type": "markdown",
   "metadata": {},
   "source": [
    "# Adding Technnical Indicators"
   ]
  },
  {
   "cell_type": "code",
   "execution_count": 9,
   "metadata": {},
   "outputs": [
    {
     "name": "stderr",
     "output_type": "stream",
     "text": [
      "c:\\Users\\markm\\miniconda3\\lib\\site-packages\\ta\\trend.py:1030: FutureWarning: Series.__setitem__ treating keys as positions is deprecated. In a future version, integer keys will always be treated as labels (consistent with DataFrame behavior). To set a value by position, use `ser.iloc[pos] = value`\n",
      "  self._psar[i] = high2\n"
     ]
    }
   ],
   "source": [
    "aapl = add_all_ta_features(\n",
    "    aapl, open=\"Open\", high=\"High\", low=\"Low\", close=\"Close\", volume=\"Volume\", fillna=True)"
   ]
  },
  {
   "cell_type": "markdown",
   "metadata": {},
   "source": [
    "# Data Labelling"
   ]
  },
  {
   "cell_type": "code",
   "execution_count": 10,
   "metadata": {},
   "outputs": [],
   "source": [
    "aapl[\"Tomorrow\"] = aapl[\"Close\"].shift(-1)\n",
    "aapl['diff'] = aapl['Close'].diff()\n",
    "aapl[\"Target\"] = (aapl[\"Tomorrow\"]> aapl[\"Close\"]).astype(int)"
   ]
  },
  {
   "cell_type": "code",
   "execution_count": 11,
   "metadata": {},
   "outputs": [],
   "source": [
    "aapl.dropna(inplace=True)"
   ]
  },
  {
   "cell_type": "code",
   "execution_count": 12,
   "metadata": {},
   "outputs": [],
   "source": [
    "labels = aapl['Target'].tolist()\n",
    "aapl.drop(columns=\"Target\",inplace=True)\n",
    "aapl.drop(columns=\"Tomorrow\",inplace=True)"
   ]
  },
  {
   "cell_type": "markdown",
   "metadata": {},
   "source": [
    "# Data Preprocessing"
   ]
  },
  {
   "cell_type": "code",
   "execution_count": 13,
   "metadata": {},
   "outputs": [
    {
     "data": {
      "text/plain": [
       "\"# Apply fractional differencing to the 'Close' price\\naapl['Close_fdiff'] = fd.fit_transform(aapl[['Close']].values)\""
      ]
     },
     "execution_count": 13,
     "metadata": {},
     "output_type": "execute_result"
    }
   ],
   "source": [
    "# Initialize the Fracdiff object\n",
    "f = FracdiffStat()\n",
    "\n",
    "\"\"\"# Apply fractional differencing to the 'Close' price\n",
    "aapl['Close_fdiff'] = fd.fit_transform(aapl[['Close']].values)\"\"\""
   ]
  },
  {
   "cell_type": "code",
   "execution_count": 14,
   "metadata": {},
   "outputs": [
    {
     "name": "stdout",
     "output_type": "stream",
     "text": [
      "Open 0.9031146934850128\n",
      "High 0.8819919913385899\n",
      "Low 0.8941557715435576\n",
      "Close 0.8868910233529375\n",
      "Adj Close 0.8941706386572034\n",
      "Volume 8.814358643062011e-05\n",
      "SP500 0.8220988373972749\n",
      "SP500_diff 3.8659447435113167e-22\n",
      "volume_adi 0.9235044494164444\n",
      "volume_obv 0.25546988153630823\n",
      "volume_cmf 1.696241636223005e-05\n",
      "volume_fi 8.323694361086767e-13\n",
      "volume_em 2.850350091065007e-28\n",
      "volume_sma_em 2.8336117130452147e-11\n",
      "volume_vpt 0.617553302477007\n",
      "volume_vwap 0.8823981082427111\n",
      "volume_mfi 4.1867604280905835e-10\n",
      "volume_nvi 0.9498315577589561\n",
      "volatility_bbm 0.8921837919748895\n",
      "volatility_bbh 0.8617237653279903\n",
      "volatility_bbl 0.9307930096399348\n",
      "volatility_bbw 2.0237701422763103e-05\n",
      "volatility_bbp 4.4148754515192756e-16\n",
      "volatility_bbhi 0.0\n",
      "volatility_bbli 5.598644600504299e-24\n",
      "volatility_kcc 0.8693652328404542\n",
      "volatility_kch 0.8703669013429307\n",
      "volatility_kcl 0.8803006431424724\n",
      "volatility_kcw 0.0012552412349307216\n",
      "volatility_kcp 4.802414974973168e-15\n",
      "volatility_kchi 1.7213487674679685e-27\n",
      "volatility_kcli 1.2562796128890269e-20\n",
      "volatility_dcl 0.9018975525230757\n",
      "volatility_dch 0.8836907049513705\n",
      "volatility_dcm 0.8953584594405781\n",
      "volatility_dcw 0.00010837759853399715\n",
      "volatility_dcp 2.8322202678162838e-14\n",
      "volatility_atr 0.049040687291184784\n",
      "volatility_ui 4.455558338534279e-07\n",
      "trend_macd 3.471371901676834e-08\n",
      "trend_macd_signal 1.8751677553553836e-08\n",
      "trend_macd_diff 7.964451427536372e-15\n",
      "trend_sma_fast 0.9195898221515724\n",
      "trend_sma_slow 0.9292065254665771\n",
      "trend_ema_fast 0.9036170855657517\n",
      "trend_ema_slow 0.9092193509057835\n",
      "trend_vortex_ind_pos 1.4375676179181419e-09\n",
      "trend_vortex_ind_neg 4.151187341777794e-09\n",
      "trend_vortex_ind_diff 2.143068714355695e-10\n",
      "trend_trix 1.6218609691273766e-07\n",
      "trend_mass_index 2.3074502198167406e-11\n",
      "trend_dpo 0.0\n",
      "trend_kst 8.974118545844639e-09\n",
      "trend_kst_sig 2.714875822766142e-09\n",
      "trend_kst_diff 5.460639131655875e-13\n",
      "trend_ichimoku_conv 0.8995106776504158\n",
      "trend_ichimoku_base 0.9102551901828411\n",
      "trend_ichimoku_a 0.8686561896489482\n",
      "trend_ichimoku_b 0.9000351409510712\n",
      "trend_stc 6.240065960957062e-18\n",
      "trend_adx 5.273986756464182e-07\n",
      "trend_adx_pos 4.037379774420093e-11\n",
      "trend_adx_neg 5.626134974200512e-10\n",
      "trend_cci 2.1318057296115678e-14\n",
      "trend_visual_ichimoku_a 0.9508750376302061\n",
      "trend_visual_ichimoku_b 0.9643491387367098\n",
      "trend_aroon_up 1.2245003614665976e-10\n",
      "trend_aroon_down 1.2539675971046615e-10\n",
      "trend_aroon_ind 1.4073029730582094e-09\n",
      "trend_psar_up 0.904134885187821\n",
      "trend_psar_down 0.8903081682823903\n",
      "trend_psar_up_indicator 8.589277975452098e-22\n",
      "trend_psar_down_indicator 2.2849471556694495e-19\n",
      "momentum_rsi 4.7109853553677225e-14\n",
      "momentum_stoch_rsi 6.20430427804911e-15\n",
      "momentum_stoch_rsi_k 3.855830838544434e-14\n",
      "momentum_stoch_rsi_d 8.363708559040881e-14\n",
      "momentum_tsi 1.5438044534860354e-07\n",
      "momentum_uo 5.948435198883663e-09\n",
      "momentum_stoch 7.139572708072153e-10\n",
      "momentum_stoch_signal 2.216630709913049e-07\n",
      "momentum_wr 7.139572708072076e-10\n",
      "momentum_ao 4.496443452639145e-09\n",
      "momentum_roc 2.8825210600993074e-07\n",
      "momentum_ppo 7.046395825351518e-07\n",
      "momentum_ppo_signal 2.9899679688632494e-07\n",
      "momentum_ppo_hist 1.0010854957213138e-14\n",
      "momentum_pvo 2.692538724324706e-16\n",
      "momentum_pvo_signal 3.11908047870263e-14\n",
      "momentum_pvo_hist 3.3558645387221646e-21\n",
      "momentum_kama 0.8954652912496907\n",
      "others_dr 9.42070320046074e-23\n",
      "others_dlr 1.5040553926865825e-22\n",
      "others_cr 0.886891023352935\n",
      "diff 0.0\n"
     ]
    }
   ],
   "source": [
    "for indicator in aapl.columns:\n",
    "    prob = adfuller(aapl[indicator])[1]\n",
    "    print(indicator, prob)\n",
    "    if prob > 0.05 and indicator != \"Tomorrow\" and indicator != \"Target\":\n",
    "        newindicator = indicator + '_fdiff'\n",
    "        aapl[newindicator] = f.fit_transform(aapl[[indicator]].values)\n",
    "        aapl.drop(columns=indicator, inplace=True)\n",
    "    "
   ]
  },
  {
   "cell_type": "code",
   "execution_count": 15,
   "metadata": {},
   "outputs": [],
   "source": [
    "from sklearn.preprocessing import MinMaxScaler\n",
    "\n",
    "scaler = MinMaxScaler()\n",
    "data_scaled = scaler.fit_transform(aapl)"
   ]
  },
  {
   "cell_type": "markdown",
   "metadata": {},
   "source": [
    "# Creating Sequences for LSTM"
   ]
  },
  {
   "cell_type": "code",
   "execution_count": 16,
   "metadata": {},
   "outputs": [],
   "source": [
    "sequence_length = 60\n",
    "\n",
    "# Function to create sequences\n",
    "def create_sequences(data, labels, seq_length):\n",
    "    xs = []\n",
    "    ys = []\n",
    "\n",
    "    for i in range(len(data)-seq_length):\n",
    "        x = data[i:(i+seq_length)]\n",
    "        y = labels[i+seq_length]\n",
    "        xs.append(x)\n",
    "        ys.append(y)\n",
    "    \n",
    "    return np.array(xs), np.array(ys)"
   ]
  },
  {
   "cell_type": "code",
   "execution_count": 17,
   "metadata": {},
   "outputs": [],
   "source": [
    "X_all, y_all = create_sequences(aapl, labels, sequence_length)\n",
    "\n",
    "# Calculate the index for the split, for example 80% for training\n",
    "split_idx = int(len(X_all) * 0.95)\n",
    "\n",
    "# Split the data into training and test sets\n",
    "X_train = X_all[:split_idx]\n",
    "y_train = y_all[:split_idx]\n",
    "X_test = X_all[split_idx:]\n",
    "y_test = y_all[split_idx:]"
   ]
  },
  {
   "cell_type": "code",
   "execution_count": 18,
   "metadata": {},
   "outputs": [],
   "source": [
    "test_length = len(X_test)"
   ]
  },
  {
   "cell_type": "markdown",
   "metadata": {},
   "source": [
    "# DataLoader for LSTM "
   ]
  },
  {
   "cell_type": "code",
   "execution_count": 19,
   "metadata": {},
   "outputs": [],
   "source": [
    "import torch\n",
    "from torch.utils.data import Dataset, DataLoader\n",
    "\n",
    "class StockDataset(Dataset):\n",
    "    def __init__(self, features, labels):\n",
    "        self.features = features\n",
    "        self.labels = labels\n",
    "\n",
    "    def __len__(self):\n",
    "        return len(self.labels)\n",
    "\n",
    "    def __getitem__(self, idx):\n",
    "        return self.features[idx], self.labels[idx]\n",
    "    \n",
    "# Convert to PyTorch tensors\n",
    "X_train_tensor = torch.tensor(X_train, dtype=torch.float32)\n",
    "y_train_tensor = torch.tensor(y_train, dtype=torch.float32)\n",
    "\n",
    "# Create the dataset\n",
    "traindataset = StockDataset(X_train_tensor, y_train_tensor)\n",
    "\n",
    "# Create the DataLoader\n",
    "trainLoader = DataLoader(traindataset, batch_size=32, shuffle=False)\n",
    "\n",
    "X_test_tensor = torch.tensor(X_test, dtype=torch.float32)\n",
    "y_test_tensor = torch.tensor(y_test, dtype=torch.float32)\n",
    "\n",
    "# Create the dataset\n",
    "testdataset = StockDataset(X_test_tensor, y_test_tensor)\n",
    "\n",
    "# Create the DataLoader\n",
    "testLoader = DataLoader(testdataset, batch_size=32, shuffle=False)"
   ]
  },
  {
   "cell_type": "markdown",
   "metadata": {},
   "source": [
    "# LSTM Model Training"
   ]
  },
  {
   "cell_type": "code",
   "execution_count": 20,
   "metadata": {},
   "outputs": [],
   "source": [
    "import torch.nn as nn\n",
    "\n",
    "class StockPredictor(nn.Module):\n",
    "    def __init__(self, num_features, hidden_units, num_layers):\n",
    "        super(StockPredictor, self).__init__()\n",
    "        self.lstm = nn.LSTM(num_features, hidden_units, num_layers, batch_first=True)\n",
    "        self.fc = nn.Linear(hidden_units, 1)\n",
    "\n",
    "    def forward(self, x):\n",
    "        _, (h_n, _) = self.lstm(x)\n",
    "        out = self.fc(h_n[-1])\n",
    "        return torch.sigmoid(out)\n",
    "\n",
    "# Define the model\n",
    "num_features = X_train.shape[-1]  # Number of features\n",
    "hidden_units = 200  # Number of hidden units\n",
    "num_layers = 2  # Number of LSTM layers\n",
    "\n"
   ]
  },
  {
   "cell_type": "code",
   "execution_count": 21,
   "metadata": {},
   "outputs": [
    {
     "name": "stdout",
     "output_type": "stream",
     "text": [
      "Epoch [10/150], Loss: 0.6538, minimum Loss: 0.6538\n",
      "Epoch [20/150], Loss: 0.5857, minimum Loss: 0.5857\n",
      "Epoch [30/150], Loss: 0.5228, minimum Loss: 0.5228\n",
      "Epoch [40/150], Loss: 0.5045, minimum Loss: 0.4979\n",
      "Epoch [50/150], Loss: 0.4704, minimum Loss: 0.4704\n",
      "Epoch [60/150], Loss: 0.4464, minimum Loss: 0.4464\n",
      "Epoch [70/150], Loss: 0.4273, minimum Loss: 0.4249\n",
      "Epoch [80/150], Loss: 0.3867, minimum Loss: 0.3867\n",
      "Epoch [90/150], Loss: 0.3665, minimum Loss: 0.3665\n",
      "Epoch [100/150], Loss: 0.3339, minimum Loss: 0.3157\n",
      "Epoch [110/150], Loss: 0.2667, minimum Loss: 0.2667\n",
      "Epoch [120/150], Loss: 0.2457, minimum Loss: 0.2274\n",
      "Epoch [130/150], Loss: 0.1721, minimum Loss: 0.1721\n",
      "Epoch [140/150], Loss: 0.1476, minimum Loss: 0.1423\n",
      "Epoch [150/150], Loss: 0.1250, minimum Loss: 0.1237\n"
     ]
    }
   ],
   "source": [
    "model = StockPredictor(num_features, hidden_units, num_layers)\n",
    "\n",
    "# Define loss function and optimizer\n",
    "criterion = nn.BCELoss()\n",
    "optimizer = torch.optim.Adam(model.parameters(), lr=0.0001)\n",
    "\n",
    "minLossModel = StockPredictor(num_features, hidden_units, num_layers)\n",
    "# Training loop\n",
    "num_epochs = 150\n",
    "min_loss = 1\n",
    "epochLoss = []\n",
    "for epoch in range(num_epochs):\n",
    "    for features, labels in trainLoader:\n",
    "        # Forward pass\n",
    "        predictions = model(features).squeeze()\n",
    "        loss = criterion(predictions, labels)\n",
    "\n",
    "        # Backward pass and optimization\n",
    "        optimizer.zero_grad()\n",
    "        loss.backward()\n",
    "        optimizer.step()\n",
    "\n",
    "    epochLoss.append(loss.item())\n",
    "    if loss.item() < min_loss:\n",
    "        min_loss = loss.item()\n",
    "        minLossModel = model\n",
    "\n",
    "    if (epoch+1) % 10 == 0:\n",
    "        print(f'Epoch [{epoch+1}/{num_epochs}], Loss: {loss.item():.4f}, minimum Loss: {min_loss:.4f}')\n",
    "\n"
   ]
  },
  {
   "cell_type": "code",
   "execution_count": 22,
   "metadata": {},
   "outputs": [
    {
     "data": {
      "text/plain": [
       "\"\\nnum_epochs = 20\\nfor epoch in range(num_epochs):\\n    for features, labels in trainLoader:\\n        # Forward pass\\n        predictions = model(features).squeeze()\\n        loss = criterion(predictions, labels)\\n\\n        # Backward pass and optimization\\n        optimizer.zero_grad()\\n        loss.backward()\\n        optimizer.step()\\n\\n    epochLoss.append(loss.item())\\n    if loss.item() < min_loss:\\n        min_loss = loss.item()\\n        minLossModel = model\\n\\n    if (epoch+1) % 10 == 0:\\n        print(f'Epoch [{epoch+1}/{num_epochs}], Loss: {loss.item():.4f}, minimum Loss: {min_loss:.4f}')\\n\\n\""
      ]
     },
     "execution_count": 22,
     "metadata": {},
     "output_type": "execute_result"
    }
   ],
   "source": [
    "## Extra epochs\n",
    "\"\"\"\n",
    "num_epochs = 20\n",
    "for epoch in range(num_epochs):\n",
    "    for features, labels in trainLoader:\n",
    "        # Forward pass\n",
    "        predictions = model(features).squeeze()\n",
    "        loss = criterion(predictions, labels)\n",
    "\n",
    "        # Backward pass and optimization\n",
    "        optimizer.zero_grad()\n",
    "        loss.backward()\n",
    "        optimizer.step()\n",
    "\n",
    "    epochLoss.append(loss.item())\n",
    "    if loss.item() < min_loss:\n",
    "        min_loss = loss.item()\n",
    "        minLossModel = model\n",
    "\n",
    "    if (epoch+1) % 10 == 0:\n",
    "        print(f'Epoch [{epoch+1}/{num_epochs}], Loss: {loss.item():.4f}, minimum Loss: {min_loss:.4f}')\n",
    "\n",
    "\"\"\""
   ]
  },
  {
   "cell_type": "markdown",
   "metadata": {},
   "source": [
    "# Evaluation"
   ]
  },
  {
   "cell_type": "code",
   "execution_count": 23,
   "metadata": {},
   "outputs": [
    {
     "name": "stdout",
     "output_type": "stream",
     "text": [
      "Accuracy: 0.4658\n",
      "Precision: 0.5208\n",
      "Recall: 0.6098\n",
      "F1 Score: 0.5618\n",
      "Confusion Matrix:\n",
      "[[ 9 23]\n",
      " [16 25]]\n"
     ]
    }
   ],
   "source": [
    "from sklearn.metrics import accuracy_score, precision_score, recall_score, f1_score, confusion_matrix\n",
    "\n",
    "minLossModel.eval()  # Set the minLossModel to evaluation mode\n",
    "\n",
    "# Store predictions and actuals\n",
    "predictions = []\n",
    "actuals = []\n",
    "\n",
    "with torch.no_grad():  # No need to track the gradients\n",
    "    for features, labels in testLoader:\n",
    "        # Forward pass to get output/prediction\n",
    "        outputs = minLossModel(features).squeeze()\n",
    "\n",
    "        # Since we're using sigmoid, we will round the outputs to get the binary class\n",
    "        predicted_classes = torch.round(outputs)\n",
    "        \n",
    "        if predicted_classes.ndim == 0:\n",
    "            predicted_classes = predicted_classes.unsqueeze(0)\n",
    "\n",
    "        # Store predictions and actual labels\n",
    "        predictions.extend(predicted_classes.cpu().numpy())\n",
    "        actuals.extend(labels.cpu().numpy())\n",
    "\n",
    "# Convert lists to numpy arrays for evaluation\n",
    "predictions_array = np.array(predictions)\n",
    "actuals_array = np.array(actuals)\n",
    "\n",
    "# Calculate various classification metrics\n",
    "accuracy = accuracy_score(actuals_array, predictions_array)\n",
    "precision = precision_score(actuals_array, predictions_array)\n",
    "recall = recall_score(actuals_array, predictions_array)\n",
    "f1 = f1_score(actuals_array, predictions_array)\n",
    "conf_matrix = confusion_matrix(actuals_array, predictions_array)\n",
    "\n",
    "# Print out the metrics\n",
    "print(f'Accuracy: {accuracy:.4f}')\n",
    "print(f'Precision: {precision:.4f}')\n",
    "print(f'Recall: {recall:.4f}')\n",
    "print(f'F1 Score: {f1:.4f}')\n",
    "print(f'Confusion Matrix:\\n{conf_matrix}')"
   ]
  },
  {
   "cell_type": "code",
   "execution_count": 24,
   "metadata": {},
   "outputs": [
    {
     "data": {
      "text/plain": [
       "array([0., 0., 0., 0., 0., 1., 1., 1., 1., 1., 1., 1., 1., 1., 1., 1., 1.,\n",
       "       1., 1., 1., 1., 1., 1., 1., 1., 1., 1., 0., 0., 0., 0., 0., 0., 0.,\n",
       "       1., 1., 1., 1., 1., 1., 1., 0., 0., 1., 1., 1., 1., 1., 1., 1., 1.,\n",
       "       0., 0., 1., 1., 0., 0., 1., 1., 1., 0., 0., 1., 1., 1., 1., 0., 0.,\n",
       "       1., 1., 0., 0., 0.], dtype=float32)"
      ]
     },
     "execution_count": 24,
     "metadata": {},
     "output_type": "execute_result"
    }
   ],
   "source": [
    "#length of array    \n",
    "predictions_array\n"
   ]
  },
  {
   "cell_type": "code",
   "execution_count": 25,
   "metadata": {},
   "outputs": [
    {
     "name": "stdout",
     "output_type": "stream",
     "text": [
      "Evaluation for the  first 30 samples:\n",
      "Accuracy: 0.5333\n",
      "Precision: 0.5455\n",
      "Recall: 0.7500\n",
      "F1 Score: 0.6316\n",
      "Confusion Matrix:\n",
      "[[ 4 10]\n",
      " [ 4 12]]\n"
     ]
    }
   ],
   "source": [
    "predictions_array30 = predictions_array[:30]\n",
    "actuals_array30 = actuals_array[:30]\n",
    "\n",
    "# Calculate various classification metrics\n",
    "accuracy = accuracy_score(actuals_array30, predictions_array30)\n",
    "precision = precision_score(actuals_array30, predictions_array30)\n",
    "recall = recall_score(actuals_array30, predictions_array30)\n",
    "f1 = f1_score(actuals_array30, predictions_array30)\n",
    "conf_matrix = confusion_matrix(actuals_array30, predictions_array30)\n",
    "\n",
    "# Print out the metrics\n",
    "print(\"Evaluation for the  first 30 samples:\")\n",
    "print(f'Accuracy: {accuracy:.4f}')\n",
    "print(f'Precision: {precision:.4f}')\n",
    "print(f'Recall: {recall:.4f}')\n",
    "print(f'F1 Score: {f1:.4f}')\n",
    "print(f'Confusion Matrix:\\n{conf_matrix}')"
   ]
  },
  {
   "cell_type": "markdown",
   "metadata": {},
   "source": [
    "# Loss Curve"
   ]
  },
  {
   "cell_type": "code",
   "execution_count": 26,
   "metadata": {},
   "outputs": [
    {
     "data": {
      "text/plain": [
       "Text(0.5, 1.0, 'loss curve')"
      ]
     },
     "execution_count": 26,
     "metadata": {},
     "output_type": "execute_result"
    },
    {
     "data": {
      "image/png": "[encoded data removed]",
      "text/plain": [
       "<Figure size 640x480 with 1 Axes>"
      ]
     },
     "metadata": {},
     "output_type": "display_data"
    }
   ],
   "source": [
    "plt.plot(epochLoss)\n",
    "plt.title(\"loss curve\")"
   ]
  },
  {
   "cell_type": "code",
   "execution_count": 27,
   "metadata": {},
   "outputs": [
    {
     "name": "stderr",
     "output_type": "stream",
     "text": [
      "c:\\Users\\markm\\miniconda3\\lib\\site-packages\\yfinance\\utils.py:775: FutureWarning: The 'unit' keyword in TimedeltaIndex construction is deprecated and will be removed in a future version. Use pd.to_timedelta instead.\n",
      "  df.index += _pd.TimedeltaIndex(dst_error_hours, 'h')\n",
      "[*********************100%%**********************]  1 of 1 completed"
     ]
    },
    {
     "name": "stdout",
     "output_type": "stream",
     "text": [
      "\n",
      "Trading Strategy Performance:\n",
      "Cumulative Return: 10.23%\n",
      "Downside Deviation: 0.0082\n",
      "Sortino Ratio: 0.1692\n"
     ]
    },
    {
     "name": "stderr",
     "output_type": "stream",
     "text": [
      "\n"
     ]
    }
   ],
   "source": [
    "# Download AAPL closing prices\n",
    "aapl_closing = yf.download('AAPL', start='2018-01-01', end='2024-01-01')[\"Close\"]\n",
    "\n",
    "# Focus on the last 5% of the period\n",
    "last_five_percent = aapl_closing.iloc[:-1].tail(test_length)\n",
    "\n",
    "# Calculate daily returns for the last 5%\n",
    "actuals_daily_returns = np.diff(last_five_percent.values) / last_five_percent.values[:-1]\n",
    "\n",
    "# Ensure 'signals' is aligned in size with 'actuals_daily_returns'\n",
    "# This might involve slicing 'predictions_array' to match the exact period of 'last_five_percent'\n",
    "signals = predictions_array[-len(actuals_daily_returns):]  # Adjust this line as necessary\n",
    "\n",
    "# Calculate strategy daily returns\n",
    "strategy_daily_returns = signals * actuals_daily_returns\n",
    "\n",
    "# Calculate performance metrics\n",
    "cumulative_return = np.prod(strategy_daily_returns + 1) - 1\n",
    "negative_returns = strategy_daily_returns[strategy_daily_returns < 0]\n",
    "downside_deviation = np.sqrt(np.mean(negative_returns ** 2))\n",
    "expected_return = np.mean(strategy_daily_returns)\n",
    "risk_free_rate = 0  # Adjust as necessary\n",
    "sortino_ratio = (expected_return - risk_free_rate) / downside_deviation if downside_deviation != 0 else np.nan\n",
    "\n",
    "# Display Performance Metrics\n",
    "print(\"\\nTrading Strategy Performance:\")\n",
    "print(f\"Cumulative Return: {cumulative_return * 100:.2f}%\")\n",
    "print(f\"Downside Deviation: {downside_deviation:.4f}\")\n",
    "print(f\"Sortino Ratio: {sortino_ratio:.4f}\")"
   ]
  }
 ],
 "metadata": {
  "kernelspec": {
   "display_name": "base",
   "language": "python",
   "name": "python3"
  },
  "language_info": {
   "codemirror_mode": {
    "name": "ipython",
    "version": 3
   },
   "file_extension": ".py",
   "mimetype": "text/x-python",
   "name": "python",
   "nbconvert_exporter": "python",
   "pygments_lexer": "ipython3",
   "version": "3.9.5"
  },
  "orig_nbformat": 4
 },
 "nbformat": 4,
 "nbformat_minor": 2
}
