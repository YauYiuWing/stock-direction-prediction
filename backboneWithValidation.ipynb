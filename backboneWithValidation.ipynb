{
 "cells": [
  {
   "cell_type": "markdown",
   "metadata": {},
   "source": [
    "# Import Libraries"
   ]
  },
  {
   "cell_type": "code",
   "execution_count": 31,
   "metadata": {},
   "outputs": [],
   "source": [
    "import yfinance as yf\n",
    "import pandas as pd\n",
    "from ta import add_all_ta_features\n",
    "from ta.utils import dropna\n",
    "from statsmodels.tsa.stattools import adfuller\n",
    "import matplotlib.pyplot as plt\n",
    "import ta\n",
    "#import talib\n",
    "from fracdiff.sklearn import Fracdiff, FracdiffStat\n",
    "import numpy as np\n"
   ]
  },
  {
   "cell_type": "markdown",
   "metadata": {},
   "source": [
    "# Download data"
   ]
  },
  {
   "cell_type": "code",
   "execution_count": 32,
   "metadata": {},
   "outputs": [
    {
     "name": "stderr",
     "output_type": "stream",
     "text": [
      "c:\\Conda\\Lib\\site-packages\\yfinance\\utils.py:775: FutureWarning: The 'unit' keyword in TimedeltaIndex construction is deprecated and will be removed in a future version. Use pd.to_timedelta instead.\n",
      "  df.index += _pd.TimedeltaIndex(dst_error_hours, 'h')\n",
      "[*********************100%%**********************]  1 of 1 completed\n"
     ]
    }
   ],
   "source": [
    "aapl = yf.download('AAPL', start='2018-01-01', end='2024-01-01')"
   ]
  },
  {
   "cell_type": "code",
   "execution_count": 33,
   "metadata": {},
   "outputs": [
    {
     "name": "stderr",
     "output_type": "stream",
     "text": [
      "c:\\Conda\\Lib\\site-packages\\yfinance\\utils.py:775: FutureWarning: The 'unit' keyword in TimedeltaIndex construction is deprecated and will be removed in a future version. Use pd.to_timedelta instead.\n",
      "  df.index += _pd.TimedeltaIndex(dst_error_hours, 'h')\n",
      "[*********************100%%**********************]  1 of 1 completed\n",
      "C:\\Users\\Adrian Yau\\AppData\\Local\\Temp\\ipykernel_16892\\859413952.py:4: FutureWarning: Series.fillna with 'method' is deprecated and will raise in a future version. Use obj.ffill() or obj.bfill() instead.\n",
      "  aapl['SP500'] = sp500['Close'].reindex(aapl.index).fillna(method='ffill')\n"
     ]
    }
   ],
   "source": [
    "sp500 = yf.download('^GSPC', start='2018-01-01', end='2024-01-01')\n",
    "\n",
    "# Align AAPL data with S&P 500 data\n",
    "aapl['SP500'] = sp500['Close'].reindex(aapl.index).fillna(method='ffill')\n",
    "aapl['SP500_diff'] = aapl['SP500'].diff()\n"
   ]
  },
  {
   "cell_type": "code",
   "execution_count": 34,
   "metadata": {},
   "outputs": [
    {
     "data": {
      "text/plain": [
       "'aapl = pd.read_csv(\\'AAPL_dollar_bars_1516_100M.csv\\')\\naapl.drop(columns=\"start_date\",inplace=True)\\naapl.drop(columns=\"end_date\",inplace=True)\\naapl.drop(columns=\"start_time\",inplace=True)\\naapl.drop(columns=\"end_time\",inplace=True)'"
      ]
     },
     "execution_count": 34,
     "metadata": {},
     "output_type": "execute_result"
    }
   ],
   "source": [
    "\"\"\"aapl = pd.read_csv('AAPL_dollar_bars_1516_100M.csv')\n",
    "aapl.drop(columns=\"start_date\",inplace=True)\n",
    "aapl.drop(columns=\"end_date\",inplace=True)\n",
    "aapl.drop(columns=\"start_time\",inplace=True)\n",
    "aapl.drop(columns=\"end_time\",inplace=True)\"\"\""
   ]
  },
  {
   "cell_type": "markdown",
   "metadata": {},
   "source": [
    "# Adding Technnical Indicators"
   ]
  },
  {
   "cell_type": "code",
   "execution_count": 35,
   "metadata": {},
   "outputs": [
    {
     "name": "stderr",
     "output_type": "stream",
     "text": [
      "c:\\Conda\\Lib\\site-packages\\ta\\trend.py:1030: FutureWarning: Series.__setitem__ treating keys as positions is deprecated. In a future version, integer keys will always be treated as labels (consistent with DataFrame behavior). To set a value by position, use `ser.iloc[pos] = value`\n",
      "  self._psar[i] = high2\n"
     ]
    }
   ],
   "source": [
    "aapl = add_all_ta_features(\n",
    "    aapl, open=\"Open\", high=\"High\", low=\"Low\", close=\"Close\", volume=\"Volume\", fillna=True)"
   ]
  },
  {
   "cell_type": "code",
   "execution_count": 36,
   "metadata": {},
   "outputs": [],
   "source": [
    "import pandas_ta\n",
    "aapl['Supertrend7_3'] = pandas_ta.supertrend(aapl['High'], aapl['Low'], aapl['Close'], length=7, multiplier=3)['SUPERT_7_3.0']\n",
    "aapl['Supertrend10_3'] = pandas_ta.supertrend(aapl['High'], aapl['Low'], aapl['Close'], length=10, multiplier=3)['SUPERT_10_3.0']"
   ]
  },
  {
   "cell_type": "code",
   "execution_count": 37,
   "metadata": {},
   "outputs": [
    {
     "name": "stderr",
     "output_type": "stream",
     "text": [
      "C:\\Users\\Adrian Yau\\AppData\\Local\\Temp\\ipykernel_16892\\1269999952.py:9: PerformanceWarning: DataFrame is highly fragmented.  This is usually the result of calling `frame.insert` many times, which has poor performance.  Consider joining all columns at once using pd.concat(axis=1) instead. To get a de-fragmented frame, use `newframe = frame.copy()`\n",
      "  aapl['Supertrend10_3-close'] = aapl['Supertrend10_3'] - aapl['Close']\n"
     ]
    }
   ],
   "source": [
    "aapl['trend_sma_fast-close'] = aapl['trend_sma_fast'] - aapl['Close']\n",
    "aapl['trend_sma_slow-close'] = aapl['trend_sma_slow'] - aapl['Close']\n",
    "aapl['trend_ema_fast-close'] = aapl['trend_ema_fast'] - aapl['Close']\n",
    "aapl['trend_ema_slow-close'] = aapl['trend_ema_slow'] - aapl['Close']\n",
    "aapl['volatility_bbm-close'] = aapl['volatility_bbm'] - aapl['Close']\n",
    "aapl['volatility_bbh-close'] = aapl['volatility_bbh'] - aapl['Close']\n",
    "aapl['volatility_bbl-close'] = aapl['volatility_bbl'] - aapl['Close']\n",
    "aapl['Supertrend7_3-close'] = aapl['Supertrend7_3'] - aapl['Close']\n",
    "aapl['Supertrend10_3-close'] = aapl['Supertrend10_3'] - aapl['Close']"
   ]
  },
  {
   "cell_type": "code",
   "execution_count": null,
   "metadata": {},
   "outputs": [],
   "source": []
  },
  {
   "cell_type": "markdown",
   "metadata": {},
   "source": [
    "# Data Labelling"
   ]
  },
  {
   "cell_type": "code",
   "execution_count": 38,
   "metadata": {},
   "outputs": [
    {
     "name": "stderr",
     "output_type": "stream",
     "text": [
      "C:\\Users\\Adrian Yau\\AppData\\Local\\Temp\\ipykernel_16892\\1424326882.py:1: PerformanceWarning: DataFrame is highly fragmented.  This is usually the result of calling `frame.insert` many times, which has poor performance.  Consider joining all columns at once using pd.concat(axis=1) instead. To get a de-fragmented frame, use `newframe = frame.copy()`\n",
      "  aapl[\"Tomorrow\"] = aapl[\"Close\"].shift(-1)\n",
      "C:\\Users\\Adrian Yau\\AppData\\Local\\Temp\\ipykernel_16892\\1424326882.py:2: PerformanceWarning: DataFrame is highly fragmented.  This is usually the result of calling `frame.insert` many times, which has poor performance.  Consider joining all columns at once using pd.concat(axis=1) instead. To get a de-fragmented frame, use `newframe = frame.copy()`\n",
      "  aapl['diff'] = aapl['Close'].diff()\n",
      "C:\\Users\\Adrian Yau\\AppData\\Local\\Temp\\ipykernel_16892\\1424326882.py:3: PerformanceWarning: DataFrame is highly fragmented.  This is usually the result of calling `frame.insert` many times, which has poor performance.  Consider joining all columns at once using pd.concat(axis=1) instead. To get a de-fragmented frame, use `newframe = frame.copy()`\n",
      "  aapl[\"Target\"] = (aapl[\"Tomorrow\"]> aapl[\"Close\"]).astype(int)\n"
     ]
    }
   ],
   "source": [
    "aapl[\"Tomorrow\"] = aapl[\"Close\"].shift(-1)\n",
    "aapl['diff'] = aapl['Close'].diff()\n",
    "aapl[\"Target\"] = (aapl[\"Tomorrow\"]> aapl[\"Close\"]).astype(int)"
   ]
  },
  {
   "cell_type": "code",
   "execution_count": 39,
   "metadata": {},
   "outputs": [],
   "source": [
    "aapl.dropna(inplace=True)"
   ]
  },
  {
   "cell_type": "code",
   "execution_count": 40,
   "metadata": {},
   "outputs": [],
   "source": [
    "labels = aapl['Target'].tolist()\n",
    "aapl.drop(columns=\"Target\",inplace=True)\n",
    "aapl.drop(columns=\"Tomorrow\",inplace=True)"
   ]
  },
  {
   "cell_type": "code",
   "execution_count": 41,
   "metadata": {},
   "outputs": [
    {
     "data": {
      "text/plain": [
       "1498"
      ]
     },
     "execution_count": 41,
     "metadata": {},
     "output_type": "execute_result"
    }
   ],
   "source": [
    "len(aapl)"
   ]
  },
  {
   "cell_type": "markdown",
   "metadata": {},
   "source": [
    "# Data Preprocessing"
   ]
  },
  {
   "cell_type": "code",
   "execution_count": 42,
   "metadata": {},
   "outputs": [
    {
     "data": {
      "text/plain": [
       "\"# Apply fractional differencing to the 'Close' price\\naapl['Close_fdiff'] = fd.fit_transform(aapl[['Close']].values)\""
      ]
     },
     "execution_count": 42,
     "metadata": {},
     "output_type": "execute_result"
    }
   ],
   "source": [
    "# Initialize the Fracdiff object\n",
    "fd = FracdiffStat()\n",
    "\n",
    "\"\"\"# Apply fractional differencing to the 'Close' price\n",
    "aapl['Close_fdiff'] = fd.fit_transform(aapl[['Close']].values)\"\"\""
   ]
  },
  {
   "cell_type": "code",
   "execution_count": 43,
   "metadata": {},
   "outputs": [
    {
     "name": "stdout",
     "output_type": "stream",
     "text": [
      "Open 0.9026546793909713\n"
     ]
    },
    {
     "name": "stderr",
     "output_type": "stream",
     "text": [
      "C:\\Users\\Adrian Yau\\AppData\\Local\\Temp\\ipykernel_16892\\745939167.py:7: PerformanceWarning: DataFrame is highly fragmented.  This is usually the result of calling `frame.insert` many times, which has poor performance.  Consider joining all columns at once using pd.concat(axis=1) instead. To get a de-fragmented frame, use `newframe = frame.copy()`\n",
      "  aapl[fdindicator] = fd.fit_transform(aapl[[indicator]].values)\n"
     ]
    },
    {
     "name": "stdout",
     "output_type": "stream",
     "text": [
      "High 0.8810522634620366\n"
     ]
    },
    {
     "name": "stderr",
     "output_type": "stream",
     "text": [
      "C:\\Users\\Adrian Yau\\AppData\\Local\\Temp\\ipykernel_16892\\745939167.py:7: PerformanceWarning: DataFrame is highly fragmented.  This is usually the result of calling `frame.insert` many times, which has poor performance.  Consider joining all columns at once using pd.concat(axis=1) instead. To get a de-fragmented frame, use `newframe = frame.copy()`\n",
      "  aapl[fdindicator] = fd.fit_transform(aapl[[indicator]].values)\n"
     ]
    },
    {
     "name": "stdout",
     "output_type": "stream",
     "text": [
      "Low 0.894058797790726\n"
     ]
    },
    {
     "name": "stderr",
     "output_type": "stream",
     "text": [
      "C:\\Users\\Adrian Yau\\AppData\\Local\\Temp\\ipykernel_16892\\745939167.py:7: PerformanceWarning: DataFrame is highly fragmented.  This is usually the result of calling `frame.insert` many times, which has poor performance.  Consider joining all columns at once using pd.concat(axis=1) instead. To get a de-fragmented frame, use `newframe = frame.copy()`\n",
      "  aapl[fdindicator] = fd.fit_transform(aapl[[indicator]].values)\n"
     ]
    },
    {
     "name": "stdout",
     "output_type": "stream",
     "text": [
      "Close 0.888791907757907\n"
     ]
    },
    {
     "name": "stderr",
     "output_type": "stream",
     "text": [
      "C:\\Users\\Adrian Yau\\AppData\\Local\\Temp\\ipykernel_16892\\745939167.py:7: PerformanceWarning: DataFrame is highly fragmented.  This is usually the result of calling `frame.insert` many times, which has poor performance.  Consider joining all columns at once using pd.concat(axis=1) instead. To get a de-fragmented frame, use `newframe = frame.copy()`\n",
      "  aapl[fdindicator] = fd.fit_transform(aapl[[indicator]].values)\n"
     ]
    },
    {
     "name": "stdout",
     "output_type": "stream",
     "text": [
      "Adj Close 0.8957100461048948\n"
     ]
    },
    {
     "name": "stderr",
     "output_type": "stream",
     "text": [
      "C:\\Users\\Adrian Yau\\AppData\\Local\\Temp\\ipykernel_16892\\745939167.py:7: PerformanceWarning: DataFrame is highly fragmented.  This is usually the result of calling `frame.insert` many times, which has poor performance.  Consider joining all columns at once using pd.concat(axis=1) instead. To get a de-fragmented frame, use `newframe = frame.copy()`\n",
      "  aapl[fdindicator] = fd.fit_transform(aapl[[indicator]].values)\n"
     ]
    },
    {
     "name": "stdout",
     "output_type": "stream",
     "text": [
      "Volume 7.396591038601194e-05\n",
      "SP500 0.8081154968880498\n"
     ]
    },
    {
     "name": "stderr",
     "output_type": "stream",
     "text": [
      "C:\\Users\\Adrian Yau\\AppData\\Local\\Temp\\ipykernel_16892\\745939167.py:7: PerformanceWarning: DataFrame is highly fragmented.  This is usually the result of calling `frame.insert` many times, which has poor performance.  Consider joining all columns at once using pd.concat(axis=1) instead. To get a de-fragmented frame, use `newframe = frame.copy()`\n",
      "  aapl[fdindicator] = fd.fit_transform(aapl[[indicator]].values)\n"
     ]
    },
    {
     "name": "stdout",
     "output_type": "stream",
     "text": [
      "SP500_diff 4.684104127988681e-22\n",
      "volume_adi 0.9331536427653389\n"
     ]
    },
    {
     "name": "stderr",
     "output_type": "stream",
     "text": [
      "C:\\Users\\Adrian Yau\\AppData\\Local\\Temp\\ipykernel_16892\\745939167.py:7: PerformanceWarning: DataFrame is highly fragmented.  This is usually the result of calling `frame.insert` many times, which has poor performance.  Consider joining all columns at once using pd.concat(axis=1) instead. To get a de-fragmented frame, use `newframe = frame.copy()`\n",
      "  aapl[fdindicator] = fd.fit_transform(aapl[[indicator]].values)\n"
     ]
    },
    {
     "name": "stdout",
     "output_type": "stream",
     "text": [
      "volume_obv 0.260674690303392\n"
     ]
    },
    {
     "name": "stderr",
     "output_type": "stream",
     "text": [
      "C:\\Users\\Adrian Yau\\AppData\\Local\\Temp\\ipykernel_16892\\745939167.py:7: PerformanceWarning: DataFrame is highly fragmented.  This is usually the result of calling `frame.insert` many times, which has poor performance.  Consider joining all columns at once using pd.concat(axis=1) instead. To get a de-fragmented frame, use `newframe = frame.copy()`\n",
      "  aapl[fdindicator] = fd.fit_transform(aapl[[indicator]].values)\n"
     ]
    },
    {
     "name": "stdout",
     "output_type": "stream",
     "text": [
      "volume_cmf 9.653954852013076e-06\n",
      "volume_fi 9.327385027391376e-13\n",
      "volume_em 3.2590238531855314e-28\n",
      "volume_sma_em 3.2485099302949837e-11\n",
      "volume_vpt 0.5507849883515203\n"
     ]
    },
    {
     "name": "stderr",
     "output_type": "stream",
     "text": [
      "C:\\Users\\Adrian Yau\\AppData\\Local\\Temp\\ipykernel_16892\\745939167.py:7: PerformanceWarning: DataFrame is highly fragmented.  This is usually the result of calling `frame.insert` many times, which has poor performance.  Consider joining all columns at once using pd.concat(axis=1) instead. To get a de-fragmented frame, use `newframe = frame.copy()`\n",
      "  aapl[fdindicator] = fd.fit_transform(aapl[[indicator]].values)\n"
     ]
    },
    {
     "name": "stdout",
     "output_type": "stream",
     "text": [
      "volume_vwap 0.8655713876214615\n"
     ]
    },
    {
     "name": "stderr",
     "output_type": "stream",
     "text": [
      "C:\\Users\\Adrian Yau\\AppData\\Local\\Temp\\ipykernel_16892\\745939167.py:7: PerformanceWarning: DataFrame is highly fragmented.  This is usually the result of calling `frame.insert` many times, which has poor performance.  Consider joining all columns at once using pd.concat(axis=1) instead. To get a de-fragmented frame, use `newframe = frame.copy()`\n",
      "  aapl[fdindicator] = fd.fit_transform(aapl[[indicator]].values)\n"
     ]
    },
    {
     "name": "stdout",
     "output_type": "stream",
     "text": [
      "volume_mfi 2.824963174026137e-10\n",
      "volume_nvi 0.9502988379225977\n"
     ]
    },
    {
     "name": "stderr",
     "output_type": "stream",
     "text": [
      "C:\\Users\\Adrian Yau\\AppData\\Local\\Temp\\ipykernel_16892\\745939167.py:7: PerformanceWarning: DataFrame is highly fragmented.  This is usually the result of calling `frame.insert` many times, which has poor performance.  Consider joining all columns at once using pd.concat(axis=1) instead. To get a de-fragmented frame, use `newframe = frame.copy()`\n",
      "  aapl[fdindicator] = fd.fit_transform(aapl[[indicator]].values)\n",
      "C:\\Users\\Adrian Yau\\AppData\\Local\\Temp\\ipykernel_16892\\745939167.py:7: PerformanceWarning: DataFrame is highly fragmented.  This is usually the result of calling `frame.insert` many times, which has poor performance.  Consider joining all columns at once using pd.concat(axis=1) instead. To get a de-fragmented frame, use `newframe = frame.copy()`\n",
      "  aapl[fdindicator] = fd.fit_transform(aapl[[indicator]].values)\n"
     ]
    },
    {
     "name": "stdout",
     "output_type": "stream",
     "text": [
      "volatility_bbm 0.8929898393288129\n",
      "volatility_bbh 0.8636643193662945\n"
     ]
    },
    {
     "name": "stderr",
     "output_type": "stream",
     "text": [
      "C:\\Users\\Adrian Yau\\AppData\\Local\\Temp\\ipykernel_16892\\745939167.py:7: PerformanceWarning: DataFrame is highly fragmented.  This is usually the result of calling `frame.insert` many times, which has poor performance.  Consider joining all columns at once using pd.concat(axis=1) instead. To get a de-fragmented frame, use `newframe = frame.copy()`\n",
      "  aapl[fdindicator] = fd.fit_transform(aapl[[indicator]].values)\n"
     ]
    },
    {
     "name": "stdout",
     "output_type": "stream",
     "text": [
      "volatility_bbl 0.925576386742542\n",
      "volatility_bbw 2.803596211363109e-05\n"
     ]
    },
    {
     "name": "stderr",
     "output_type": "stream",
     "text": [
      "C:\\Users\\Adrian Yau\\AppData\\Local\\Temp\\ipykernel_16892\\745939167.py:7: PerformanceWarning: DataFrame is highly fragmented.  This is usually the result of calling `frame.insert` many times, which has poor performance.  Consider joining all columns at once using pd.concat(axis=1) instead. To get a de-fragmented frame, use `newframe = frame.copy()`\n",
      "  aapl[fdindicator] = fd.fit_transform(aapl[[indicator]].values)\n"
     ]
    },
    {
     "name": "stdout",
     "output_type": "stream",
     "text": [
      "volatility_bbp 6.576456216395831e-16\n",
      "volatility_bbhi 0.0\n",
      "volatility_bbli 6.5246582177397044e-24\n",
      "volatility_kcc 0.876969841751418\n"
     ]
    },
    {
     "name": "stderr",
     "output_type": "stream",
     "text": [
      "C:\\Users\\Adrian Yau\\AppData\\Local\\Temp\\ipykernel_16892\\745939167.py:7: PerformanceWarning: DataFrame is highly fragmented.  This is usually the result of calling `frame.insert` many times, which has poor performance.  Consider joining all columns at once using pd.concat(axis=1) instead. To get a de-fragmented frame, use `newframe = frame.copy()`\n",
      "  aapl[fdindicator] = fd.fit_transform(aapl[[indicator]].values)\n"
     ]
    },
    {
     "name": "stdout",
     "output_type": "stream",
     "text": [
      "volatility_kch 0.8740723928209121\n",
      "volatility_kcl 0.8891523814189044\n"
     ]
    },
    {
     "name": "stderr",
     "output_type": "stream",
     "text": [
      "C:\\Users\\Adrian Yau\\AppData\\Local\\Temp\\ipykernel_16892\\745939167.py:7: PerformanceWarning: DataFrame is highly fragmented.  This is usually the result of calling `frame.insert` many times, which has poor performance.  Consider joining all columns at once using pd.concat(axis=1) instead. To get a de-fragmented frame, use `newframe = frame.copy()`\n",
      "  aapl[fdindicator] = fd.fit_transform(aapl[[indicator]].values)\n",
      "C:\\Users\\Adrian Yau\\AppData\\Local\\Temp\\ipykernel_16892\\745939167.py:7: PerformanceWarning: DataFrame is highly fragmented.  This is usually the result of calling `frame.insert` many times, which has poor performance.  Consider joining all columns at once using pd.concat(axis=1) instead. To get a de-fragmented frame, use `newframe = frame.copy()`\n",
      "  aapl[fdindicator] = fd.fit_transform(aapl[[indicator]].values)\n"
     ]
    },
    {
     "name": "stdout",
     "output_type": "stream",
     "text": [
      "volatility_kcw 0.0014507262813723636\n",
      "volatility_kcp 5.309706986320345e-15\n",
      "volatility_kchi 1.7157756912036224e-27\n",
      "volatility_kcli 1.5296652701648152e-20\n",
      "volatility_dcl 0.8943366591735717\n"
     ]
    },
    {
     "name": "stderr",
     "output_type": "stream",
     "text": [
      "C:\\Users\\Adrian Yau\\AppData\\Local\\Temp\\ipykernel_16892\\745939167.py:7: PerformanceWarning: DataFrame is highly fragmented.  This is usually the result of calling `frame.insert` many times, which has poor performance.  Consider joining all columns at once using pd.concat(axis=1) instead. To get a de-fragmented frame, use `newframe = frame.copy()`\n",
      "  aapl[fdindicator] = fd.fit_transform(aapl[[indicator]].values)\n"
     ]
    },
    {
     "name": "stdout",
     "output_type": "stream",
     "text": [
      "volatility_dch 0.8778237813387066\n",
      "volatility_dcm 0.8925232173546458\n"
     ]
    },
    {
     "name": "stderr",
     "output_type": "stream",
     "text": [
      "C:\\Users\\Adrian Yau\\AppData\\Local\\Temp\\ipykernel_16892\\745939167.py:7: PerformanceWarning: DataFrame is highly fragmented.  This is usually the result of calling `frame.insert` many times, which has poor performance.  Consider joining all columns at once using pd.concat(axis=1) instead. To get a de-fragmented frame, use `newframe = frame.copy()`\n",
      "  aapl[fdindicator] = fd.fit_transform(aapl[[indicator]].values)\n",
      "C:\\Users\\Adrian Yau\\AppData\\Local\\Temp\\ipykernel_16892\\745939167.py:7: PerformanceWarning: DataFrame is highly fragmented.  This is usually the result of calling `frame.insert` many times, which has poor performance.  Consider joining all columns at once using pd.concat(axis=1) instead. To get a de-fragmented frame, use `newframe = frame.copy()`\n",
      "  aapl[fdindicator] = fd.fit_transform(aapl[[indicator]].values)\n"
     ]
    },
    {
     "name": "stdout",
     "output_type": "stream",
     "text": [
      "volatility_dcw 0.00015261818926468355\n",
      "volatility_dcp 3.1326338297311326e-14\n",
      "volatility_atr 0.06524078497102863\n"
     ]
    },
    {
     "name": "stderr",
     "output_type": "stream",
     "text": [
      "C:\\Users\\Adrian Yau\\AppData\\Local\\Temp\\ipykernel_16892\\745939167.py:7: PerformanceWarning: DataFrame is highly fragmented.  This is usually the result of calling `frame.insert` many times, which has poor performance.  Consider joining all columns at once using pd.concat(axis=1) instead. To get a de-fragmented frame, use `newframe = frame.copy()`\n",
      "  aapl[fdindicator] = fd.fit_transform(aapl[[indicator]].values)\n"
     ]
    },
    {
     "name": "stdout",
     "output_type": "stream",
     "text": [
      "volatility_ui 6.407129716319792e-07\n",
      "trend_macd 3.89189383850168e-08\n",
      "trend_macd_signal 2.0927032212810973e-08\n",
      "trend_macd_diff 9.352101455543011e-15\n",
      "trend_sma_fast 0.9236592075299306\n"
     ]
    },
    {
     "name": "stderr",
     "output_type": "stream",
     "text": [
      "C:\\Users\\Adrian Yau\\AppData\\Local\\Temp\\ipykernel_16892\\745939167.py:7: PerformanceWarning: DataFrame is highly fragmented.  This is usually the result of calling `frame.insert` many times, which has poor performance.  Consider joining all columns at once using pd.concat(axis=1) instead. To get a de-fragmented frame, use `newframe = frame.copy()`\n",
      "  aapl[fdindicator] = fd.fit_transform(aapl[[indicator]].values)\n",
      "C:\\Users\\Adrian Yau\\AppData\\Local\\Temp\\ipykernel_16892\\745939167.py:7: PerformanceWarning: DataFrame is highly fragmented.  This is usually the result of calling `frame.insert` many times, which has poor performance.  Consider joining all columns at once using pd.concat(axis=1) instead. To get a de-fragmented frame, use `newframe = frame.copy()`\n",
      "  aapl[fdindicator] = fd.fit_transform(aapl[[indicator]].values)\n"
     ]
    },
    {
     "name": "stdout",
     "output_type": "stream",
     "text": [
      "trend_sma_slow 0.9289533248801554\n",
      "trend_ema_fast 0.9051626211146737\n"
     ]
    },
    {
     "name": "stderr",
     "output_type": "stream",
     "text": [
      "C:\\Users\\Adrian Yau\\AppData\\Local\\Temp\\ipykernel_16892\\745939167.py:7: PerformanceWarning: DataFrame is highly fragmented.  This is usually the result of calling `frame.insert` many times, which has poor performance.  Consider joining all columns at once using pd.concat(axis=1) instead. To get a de-fragmented frame, use `newframe = frame.copy()`\n",
      "  aapl[fdindicator] = fd.fit_transform(aapl[[indicator]].values)\n",
      "C:\\Users\\Adrian Yau\\AppData\\Local\\Temp\\ipykernel_16892\\745939167.py:7: PerformanceWarning: DataFrame is highly fragmented.  This is usually the result of calling `frame.insert` many times, which has poor performance.  Consider joining all columns at once using pd.concat(axis=1) instead. To get a de-fragmented frame, use `newframe = frame.copy()`\n",
      "  aapl[fdindicator] = fd.fit_transform(aapl[[indicator]].values)\n"
     ]
    },
    {
     "name": "stdout",
     "output_type": "stream",
     "text": [
      "trend_ema_slow 0.9105536847457855\n",
      "trend_vortex_ind_pos 1.4684128684795517e-09\n",
      "trend_vortex_ind_neg 1.7491879746678383e-08\n",
      "trend_vortex_ind_diff 4.992109609768858e-10\n",
      "trend_trix 1.4562847716824562e-07\n",
      "trend_mass_index 3.5486329544181396e-06\n",
      "trend_dpo 1.263479886626841e-25\n",
      "trend_kst 3.510878280556135e-08\n",
      "trend_kst_sig 2.1965871938380687e-06\n",
      "trend_kst_diff 6.641282845709394e-14\n",
      "trend_ichimoku_conv 0.8904289339811483\n"
     ]
    },
    {
     "name": "stderr",
     "output_type": "stream",
     "text": [
      "C:\\Users\\Adrian Yau\\AppData\\Local\\Temp\\ipykernel_16892\\745939167.py:7: PerformanceWarning: DataFrame is highly fragmented.  This is usually the result of calling `frame.insert` many times, which has poor performance.  Consider joining all columns at once using pd.concat(axis=1) instead. To get a de-fragmented frame, use `newframe = frame.copy()`\n",
      "  aapl[fdindicator] = fd.fit_transform(aapl[[indicator]].values)\n"
     ]
    },
    {
     "name": "stdout",
     "output_type": "stream",
     "text": [
      "trend_ichimoku_base 0.9017299727219157\n"
     ]
    },
    {
     "name": "stderr",
     "output_type": "stream",
     "text": [
      "C:\\Users\\Adrian Yau\\AppData\\Local\\Temp\\ipykernel_16892\\745939167.py:7: PerformanceWarning: DataFrame is highly fragmented.  This is usually the result of calling `frame.insert` many times, which has poor performance.  Consider joining all columns at once using pd.concat(axis=1) instead. To get a de-fragmented frame, use `newframe = frame.copy()`\n",
      "  aapl[fdindicator] = fd.fit_transform(aapl[[indicator]].values)\n"
     ]
    },
    {
     "name": "stdout",
     "output_type": "stream",
     "text": [
      "trend_ichimoku_a 0.8520907954878154\n"
     ]
    },
    {
     "name": "stderr",
     "output_type": "stream",
     "text": [
      "C:\\Users\\Adrian Yau\\AppData\\Local\\Temp\\ipykernel_16892\\745939167.py:7: PerformanceWarning: DataFrame is highly fragmented.  This is usually the result of calling `frame.insert` many times, which has poor performance.  Consider joining all columns at once using pd.concat(axis=1) instead. To get a de-fragmented frame, use `newframe = frame.copy()`\n",
      "  aapl[fdindicator] = fd.fit_transform(aapl[[indicator]].values)\n",
      "C:\\Users\\Adrian Yau\\AppData\\Local\\Temp\\ipykernel_16892\\745939167.py:7: PerformanceWarning: DataFrame is highly fragmented.  This is usually the result of calling `frame.insert` many times, which has poor performance.  Consider joining all columns at once using pd.concat(axis=1) instead. To get a de-fragmented frame, use `newframe = frame.copy()`\n",
      "  aapl[fdindicator] = fd.fit_transform(aapl[[indicator]].values)\n"
     ]
    },
    {
     "name": "stdout",
     "output_type": "stream",
     "text": [
      "trend_ichimoku_b 0.8789657950329461\n",
      "trend_stc 5.592689888917978e-18\n",
      "trend_adx 2.106203037187186e-07\n",
      "trend_adx_pos 6.10803002251858e-11\n",
      "trend_adx_neg 2.608632022744189e-11\n",
      "trend_cci 2.3713689814988694e-14\n",
      "trend_visual_ichimoku_a 0.9193162100823954\n"
     ]
    },
    {
     "name": "stderr",
     "output_type": "stream",
     "text": [
      "C:\\Users\\Adrian Yau\\AppData\\Local\\Temp\\ipykernel_16892\\745939167.py:7: PerformanceWarning: DataFrame is highly fragmented.  This is usually the result of calling `frame.insert` many times, which has poor performance.  Consider joining all columns at once using pd.concat(axis=1) instead. To get a de-fragmented frame, use `newframe = frame.copy()`\n",
      "  aapl[fdindicator] = fd.fit_transform(aapl[[indicator]].values)\n",
      "C:\\Users\\Adrian Yau\\AppData\\Local\\Temp\\ipykernel_16892\\745939167.py:7: PerformanceWarning: DataFrame is highly fragmented.  This is usually the result of calling `frame.insert` many times, which has poor performance.  Consider joining all columns at once using pd.concat(axis=1) instead. To get a de-fragmented frame, use `newframe = frame.copy()`\n",
      "  aapl[fdindicator] = fd.fit_transform(aapl[[indicator]].values)\n"
     ]
    },
    {
     "name": "stdout",
     "output_type": "stream",
     "text": [
      "trend_visual_ichimoku_b 0.9494213382348998\n",
      "trend_aroon_up 1.767377357773123e-10\n",
      "trend_aroon_down 1.2225121868233566e-10\n",
      "trend_aroon_ind 8.763835339848165e-08\n",
      "trend_psar_up 0.9032242092837122\n"
     ]
    },
    {
     "name": "stderr",
     "output_type": "stream",
     "text": [
      "C:\\Users\\Adrian Yau\\AppData\\Local\\Temp\\ipykernel_16892\\745939167.py:7: PerformanceWarning: DataFrame is highly fragmented.  This is usually the result of calling `frame.insert` many times, which has poor performance.  Consider joining all columns at once using pd.concat(axis=1) instead. To get a de-fragmented frame, use `newframe = frame.copy()`\n",
      "  aapl[fdindicator] = fd.fit_transform(aapl[[indicator]].values)\n",
      "C:\\Users\\Adrian Yau\\AppData\\Local\\Temp\\ipykernel_16892\\745939167.py:7: PerformanceWarning: DataFrame is highly fragmented.  This is usually the result of calling `frame.insert` many times, which has poor performance.  Consider joining all columns at once using pd.concat(axis=1) instead. To get a de-fragmented frame, use `newframe = frame.copy()`\n",
      "  aapl[fdindicator] = fd.fit_transform(aapl[[indicator]].values)\n"
     ]
    },
    {
     "name": "stdout",
     "output_type": "stream",
     "text": [
      "trend_psar_down 0.8872930668107581\n",
      "trend_psar_up_indicator 1.4152872718811121e-21\n",
      "trend_psar_down_indicator 3.1605475885702098e-19\n",
      "momentum_rsi 1.3840456653511657e-10\n",
      "momentum_stoch_rsi 4.160715282789148e-15\n",
      "momentum_stoch_rsi_k 9.833766890664323e-11\n",
      "momentum_stoch_rsi_d 2.3979422481399566e-12\n",
      "momentum_tsi 2.4460085198922302e-08\n",
      "momentum_uo 8.868417897022272e-09\n",
      "momentum_stoch 1.7762051846308611e-19\n",
      "momentum_stoch_signal 2.7678489511298783e-07\n",
      "momentum_wr 1.776205184630874e-19\n",
      "momentum_ao 5.504904023867824e-09\n",
      "momentum_roc 4.631947294301581e-07\n",
      "momentum_ppo 6.464895302871311e-07\n",
      "momentum_ppo_signal 2.6983784826205036e-07\n",
      "momentum_ppo_hist 1.1584214558716114e-14\n",
      "momentum_pvo 1.7721555753638353e-16\n",
      "momentum_pvo_signal 3.49304247674623e-14\n",
      "momentum_pvo_hist 3.454391583066908e-21\n",
      "momentum_kama 0.8649361729617651\n"
     ]
    },
    {
     "name": "stderr",
     "output_type": "stream",
     "text": [
      "C:\\Users\\Adrian Yau\\AppData\\Local\\Temp\\ipykernel_16892\\745939167.py:7: PerformanceWarning: DataFrame is highly fragmented.  This is usually the result of calling `frame.insert` many times, which has poor performance.  Consider joining all columns at once using pd.concat(axis=1) instead. To get a de-fragmented frame, use `newframe = frame.copy()`\n",
      "  aapl[fdindicator] = fd.fit_transform(aapl[[indicator]].values)\n"
     ]
    },
    {
     "name": "stdout",
     "output_type": "stream",
     "text": [
      "others_dr 9.544252662317374e-23\n",
      "others_dlr 1.543280328761861e-22\n",
      "others_cr 0.888791907757905\n"
     ]
    },
    {
     "name": "stderr",
     "output_type": "stream",
     "text": [
      "C:\\Users\\Adrian Yau\\AppData\\Local\\Temp\\ipykernel_16892\\745939167.py:7: PerformanceWarning: DataFrame is highly fragmented.  This is usually the result of calling `frame.insert` many times, which has poor performance.  Consider joining all columns at once using pd.concat(axis=1) instead. To get a de-fragmented frame, use `newframe = frame.copy()`\n",
      "  aapl[fdindicator] = fd.fit_transform(aapl[[indicator]].values)\n"
     ]
    },
    {
     "name": "stdout",
     "output_type": "stream",
     "text": [
      "Supertrend7_3 0.9018817877722602\n",
      "Supertrend10_3 0.9025726102981813\n"
     ]
    },
    {
     "name": "stderr",
     "output_type": "stream",
     "text": [
      "C:\\Users\\Adrian Yau\\AppData\\Local\\Temp\\ipykernel_16892\\745939167.py:7: PerformanceWarning: DataFrame is highly fragmented.  This is usually the result of calling `frame.insert` many times, which has poor performance.  Consider joining all columns at once using pd.concat(axis=1) instead. To get a de-fragmented frame, use `newframe = frame.copy()`\n",
      "  aapl[fdindicator] = fd.fit_transform(aapl[[indicator]].values)\n",
      "C:\\Users\\Adrian Yau\\AppData\\Local\\Temp\\ipykernel_16892\\745939167.py:7: PerformanceWarning: DataFrame is highly fragmented.  This is usually the result of calling `frame.insert` many times, which has poor performance.  Consider joining all columns at once using pd.concat(axis=1) instead. To get a de-fragmented frame, use `newframe = frame.copy()`\n",
      "  aapl[fdindicator] = fd.fit_transform(aapl[[indicator]].values)\n"
     ]
    },
    {
     "name": "stdout",
     "output_type": "stream",
     "text": [
      "trend_sma_fast-close 2.266186567142866e-15\n",
      "trend_sma_slow-close 1.9669061893705585e-11\n",
      "trend_ema_fast-close 5.455033617734016e-22\n",
      "trend_ema_slow-close 6.832032725049998e-13\n",
      "volatility_bbm-close 1.1501882853373797e-13\n",
      "volatility_bbh-close 2.653804198501898e-05\n",
      "volatility_bbl-close 6.4681619202117076e-12\n",
      "Supertrend7_3-close 2.5827201760084027e-10\n",
      "Supertrend10_3-close 2.6840579229584777e-10\n",
      "diff 0.0\n"
     ]
    }
   ],
   "source": [
    "for indicator in aapl.columns:\n",
    "    prob = adfuller(aapl[indicator])[1]\n",
    "    print(indicator, prob)\n",
    "    if prob > 0.05 and indicator != \"Tomorrow\" and indicator != \"Target\":\n",
    "        fdindicator = indicator + '_fdiff'\n",
    "        #pctindicator = indicator + '_pctdiff'\n",
    "        aapl[fdindicator] = fd.fit_transform(aapl[[indicator]].values)\n",
    "        #aapl[pctindicator] = aapl[indicator].pct_change()\n",
    "        aapl.drop(columns=indicator, inplace=True)\n",
    "\n",
    "#aapl.dropna(inplace=True)\n",
    "aapl = aapl.iloc[1:]"
   ]
  },
  {
   "cell_type": "code",
   "execution_count": 44,
   "metadata": {},
   "outputs": [
    {
     "data": {
      "text/plain": [
       "Index(['Volume', 'SP500_diff', 'volume_cmf', 'volume_fi', 'volume_em',\n",
       "       'volume_sma_em', 'volume_mfi', 'volatility_bbw', 'volatility_bbp',\n",
       "       'volatility_bbhi',\n",
       "       ...\n",
       "       'trend_ichimoku_a_fdiff', 'trend_ichimoku_b_fdiff',\n",
       "       'trend_visual_ichimoku_a_fdiff', 'trend_visual_ichimoku_b_fdiff',\n",
       "       'trend_psar_up_fdiff', 'trend_psar_down_fdiff', 'momentum_kama_fdiff',\n",
       "       'others_cr_fdiff', 'Supertrend7_3_fdiff', 'Supertrend10_3_fdiff'],\n",
       "      dtype='object', length=106)"
      ]
     },
     "execution_count": 44,
     "metadata": {},
     "output_type": "execute_result"
    }
   ],
   "source": [
    "aapl.columns"
   ]
  },
  {
   "cell_type": "code",
   "execution_count": 45,
   "metadata": {},
   "outputs": [],
   "source": [
    "from sklearn.preprocessing import MinMaxScaler\n",
    "\n",
    "scaler = MinMaxScaler()\n",
    "data_scaled = scaler.fit_transform(aapl)"
   ]
  },
  {
   "cell_type": "markdown",
   "metadata": {},
   "source": [
    "# Creating Sequences for LSTM"
   ]
  },
  {
   "cell_type": "code",
   "execution_count": 46,
   "metadata": {},
   "outputs": [],
   "source": [
    "sequence_length = 20\n",
    "\n",
    "# Function to create sequences\n",
    "def create_sequences(data, labels, seq_length):\n",
    "    xs = []\n",
    "    ys = []\n",
    "\n",
    "    for i in range(len(data)-seq_length):\n",
    "        x = data[i:(i+seq_length)]\n",
    "        y = labels[i+seq_length]\n",
    "        xs.append(x)\n",
    "        ys.append(y)\n",
    "    \n",
    "    return np.array(xs), np.array(ys)\n",
    "\n",
    "\n",
    "X_all, y_all = create_sequences(data_scaled, labels, sequence_length)\n",
    "\n",
    "# Calculate the index for the split, for example 80% for training\n",
    "split_idx = int(len(X_all) * 0.5)\n",
    "\n",
    "# Split the data into training and test sets\n",
    "X_train = X_all[:split_idx]\n",
    "y_train = y_all[:split_idx]\n",
    "X_test = X_all[split_idx:]\n",
    "y_test = y_all[split_idx:]"
   ]
  },
  {
   "cell_type": "code",
   "execution_count": 47,
   "metadata": {},
   "outputs": [],
   "source": [
    "test_length = len(X_test)"
   ]
  },
  {
   "cell_type": "markdown",
   "metadata": {},
   "source": [
    "# DataLoader for LSTM "
   ]
  },
  {
   "cell_type": "code",
   "execution_count": 48,
   "metadata": {},
   "outputs": [],
   "source": [
    "import torch\n",
    "from torch.utils.data import Dataset, DataLoader\n",
    "\n",
    "class StockDataset(Dataset):\n",
    "    def __init__(self, features, labels):\n",
    "        self.features = features\n",
    "        self.labels = labels\n",
    "\n",
    "    def __len__(self):\n",
    "        return len(self.labels)\n",
    "\n",
    "    def __getitem__(self, idx):\n",
    "        return self.features[idx], self.labels[idx]\n",
    "    \n",
    "# Convert to PyTorch tensors\n",
    "X_train_tensor = torch.tensor(X_train, dtype=torch.float32)\n",
    "y_train_tensor = torch.tensor(y_train, dtype=torch.float32)\n",
    "\n",
    "# Create the dataset\n",
    "traindataset = StockDataset(X_train_tensor, y_train_tensor)\n",
    "\n",
    "# Create the DataLoader\n",
    "trainLoader = DataLoader(traindataset, batch_size=32, shuffle=False)\n",
    "\n",
    "X_test_tensor = torch.tensor(X_test, dtype=torch.float32)\n",
    "y_test_tensor = torch.tensor(y_test, dtype=torch.float32)\n",
    "\n",
    "# Create the dataset\n",
    "testdataset = StockDataset(X_test_tensor, y_test_tensor)\n",
    "\n",
    "# Create the DataLoader\n",
    "testLoader = DataLoader(testdataset, batch_size=32, shuffle=False)"
   ]
  },
  {
   "cell_type": "code",
   "execution_count": 49,
   "metadata": {},
   "outputs": [
    {
     "data": {
      "text/plain": [
       "1497"
      ]
     },
     "execution_count": 49,
     "metadata": {},
     "output_type": "execute_result"
    }
   ],
   "source": [
    "len(aapl)"
   ]
  },
  {
   "cell_type": "markdown",
   "metadata": {},
   "source": [
    "# LSTM Model Training"
   ]
  },
  {
   "cell_type": "code",
   "execution_count": 50,
   "metadata": {},
   "outputs": [],
   "source": [
    "import torch.nn as nn\n",
    "\n",
    "class StockPredictor(nn.Module):\n",
    "    def __init__(self, num_features, hidden_units, num_layers, dropout_prob=0.5):\n",
    "        super(StockPredictor, self).__init__()\n",
    "        self.lstm = nn.LSTM(num_features, hidden_units, num_layers, batch_first=True,dropout=dropout_prob)\n",
    "        self.fc = nn.Linear(hidden_units, 1)\n",
    "\n",
    "    def forward(self, x):\n",
    "        _, (h_n, _) = self.lstm(x)\n",
    "        out = self.fc(h_n[-1])\n",
    "        return torch.sigmoid(out)\n",
    "\n",
    "# Define the model\n",
    "num_features = X_train.shape[-1]  # Number of features\n",
    "hidden_units = 200  # Number of hidden units\n",
    "num_layers = 2  # Number of LSTM layers\n",
    "\n"
   ]
  },
  {
   "cell_type": "code",
   "execution_count": 51,
   "metadata": {},
   "outputs": [
    {
     "data": {
      "text/plain": [
       "\"model = StockPredictor(num_features, hidden_units, num_layers)\\n\\n# Define loss function and optimizer\\ncriterion = nn.BCELoss()\\noptimizer = torch.optim.Adam(model.parameters(), lr=0.0001)\\n\\nminLossModel = StockPredictor(num_features, hidden_units, num_layers)\\n# Training loop\\nnum_epochs = 150\\nmin_loss = 1\\nepochLoss = []\\nfor epoch in range(num_epochs):\\n    model.train()\\n    for features, labels in trainLoader:\\n        # Forward pass\\n        predictions = model(features).squeeze()\\n        loss = criterion(predictions, labels)\\n\\n        # Backward pass and optimization\\n        optimizer.zero_grad()\\n        loss.backward()\\n        optimizer.step()\\n\\n    epochLoss.append(loss.item())\\n    if loss.item() < min_loss:\\n        min_loss = loss.item()\\n        minLossModel = model\\n\\n    if (epoch+1) % 10 == 0:\\n        print(f'Epoch [{epoch+1}/{num_epochs}], Loss: {loss.item():.4f}, minimum Loss: {min_loss:.4f}')\\n\""
      ]
     },
     "execution_count": 51,
     "metadata": {},
     "output_type": "execute_result"
    }
   ],
   "source": [
    "\"\"\"model = StockPredictor(num_features, hidden_units, num_layers)\n",
    "\n",
    "# Define loss function and optimizer\n",
    "criterion = nn.BCELoss()\n",
    "optimizer = torch.optim.Adam(model.parameters(), lr=0.0001)\n",
    "\n",
    "minLossModel = StockPredictor(num_features, hidden_units, num_layers)\n",
    "# Training loop\n",
    "num_epochs = 150\n",
    "min_loss = 1\n",
    "epochLoss = []\n",
    "for epoch in range(num_epochs):\n",
    "    model.train()\n",
    "    for features, labels in trainLoader:\n",
    "        # Forward pass\n",
    "        predictions = model(features).squeeze()\n",
    "        loss = criterion(predictions, labels)\n",
    "\n",
    "        # Backward pass and optimization\n",
    "        optimizer.zero_grad()\n",
    "        loss.backward()\n",
    "        optimizer.step()\n",
    "\n",
    "    epochLoss.append(loss.item())\n",
    "    if loss.item() < min_loss:\n",
    "        min_loss = loss.item()\n",
    "        minLossModel = model\n",
    "\n",
    "    if (epoch+1) % 10 == 0:\n",
    "        print(f'Epoch [{epoch+1}/{num_epochs}], Loss: {loss.item():.4f}, minimum Loss: {min_loss:.4f}')\n",
    "\"\"\"\n"
   ]
  },
  {
   "cell_type": "code",
   "execution_count": 52,
   "metadata": {},
   "outputs": [
    {
     "name": "stdout",
     "output_type": "stream",
     "text": [
      "Epoch [10/200], Training Loss: 0.5214, Validation Loss: 0.7009, Minimum Validation Loss: 0.6923\n",
      "Epoch [20/200], Training Loss: 0.3233, Validation Loss: 0.7277, Minimum Validation Loss: 0.6923\n",
      "Epoch [30/200], Training Loss: 0.1088, Validation Loss: 0.7562, Minimum Validation Loss: 0.6923\n",
      "Epoch [40/200], Training Loss: 0.0781, Validation Loss: 0.7670, Minimum Validation Loss: 0.6923\n",
      "Epoch [50/200], Training Loss: 0.0337, Validation Loss: 0.7649, Minimum Validation Loss: 0.6923\n",
      "Epoch [60/200], Training Loss: 0.0497, Validation Loss: 0.7682, Minimum Validation Loss: 0.6923\n",
      "Epoch [70/200], Training Loss: 0.0057, Validation Loss: 0.8839, Minimum Validation Loss: 0.6923\n",
      "Epoch [80/200], Training Loss: 0.0109, Validation Loss: 0.7735, Minimum Validation Loss: 0.6923\n",
      "Epoch [90/200], Training Loss: 0.0168, Validation Loss: 0.8320, Minimum Validation Loss: 0.6923\n",
      "Epoch [100/200], Training Loss: 0.0217, Validation Loss: 0.7944, Minimum Validation Loss: 0.6923\n",
      "Epoch [110/200], Training Loss: 0.0047, Validation Loss: 0.8807, Minimum Validation Loss: 0.6923\n",
      "Epoch [120/200], Training Loss: 0.0042, Validation Loss: 0.8898, Minimum Validation Loss: 0.6923\n",
      "Epoch [130/200], Training Loss: 0.0048, Validation Loss: 0.8612, Minimum Validation Loss: 0.6923\n",
      "Epoch [140/200], Training Loss: 0.0036, Validation Loss: 0.8808, Minimum Validation Loss: 0.6923\n",
      "Epoch [150/200], Training Loss: 0.0025, Validation Loss: 0.8578, Minimum Validation Loss: 0.6923\n",
      "Epoch [160/200], Training Loss: 0.0028, Validation Loss: 0.8451, Minimum Validation Loss: 0.6923\n",
      "Epoch [170/200], Training Loss: 0.0030, Validation Loss: 0.8586, Minimum Validation Loss: 0.6923\n",
      "Epoch [180/200], Training Loss: 0.0042, Validation Loss: 0.9005, Minimum Validation Loss: 0.6923\n",
      "Epoch [190/200], Training Loss: 0.0070, Validation Loss: 0.9762, Minimum Validation Loss: 0.6923\n",
      "Epoch [200/200], Training Loss: 0.0044, Validation Loss: 0.9117, Minimum Validation Loss: 0.6923\n"
     ]
    }
   ],
   "source": [
    "model = StockPredictor(num_features, hidden_units, num_layers)\n",
    "\n",
    "# Define loss function and optimizer\n",
    "criterion = nn.BCELoss()\n",
    "optimizer = torch.optim.Adam(model.parameters(), lr=0.0001)\n",
    "\n",
    "minLossModel = StockPredictor(num_features, hidden_units, num_layers,dropout_prob=0.5)\n",
    "# Training loop\n",
    "num_epochs = 200\n",
    "min_loss = 1\n",
    "trainepochLoss = []\n",
    "testepochLoss = []\n",
    "\n",
    "for epoch in range(num_epochs):\n",
    "    model.train()  # Set the model to training mode\n",
    "    for features, labels in trainLoader:\n",
    "        # Forward pass\n",
    "        predictions = model(features).squeeze()\n",
    "        loss = criterion(predictions, labels)\n",
    "\n",
    "        # Backward pass and optimization\n",
    "        optimizer.zero_grad()\n",
    "        loss.backward()\n",
    "        optimizer.step()\n",
    "    trainepochLoss.append(loss.item())\n",
    "    # After each epoch, evaluate on the validation set\n",
    "    model.eval()  # Set the model to evaluation mode\n",
    "    validation_loss = 0.0\n",
    "    \n",
    "    with torch.no_grad():\n",
    "        for features, labels in testLoader:\n",
    "            predictions = model(features).squeeze()\n",
    "            val_loss = criterion(predictions, labels)\n",
    "            validation_loss += val_loss.item()\n",
    "\n",
    "    validation_loss /= len(testLoader)  # Get the average loss over the validation set\n",
    "    testepochLoss.append(validation_loss)\n",
    "\n",
    "    if validation_loss < min_loss:\n",
    "        min_loss = validation_loss\n",
    "        minLossModel = model  # You might want to clone the model here to avoid referencing the same model\n",
    "\n",
    "    if (epoch+1) % 10 == 0:\n",
    "        print(f'Epoch [{epoch+1}/{num_epochs}], Training Loss: {loss.item():.4f}, Validation Loss: {validation_loss:.4f}, Minimum Validation Loss: {min_loss:.4f}')"
   ]
  },
  {
   "cell_type": "code",
   "execution_count": 53,
   "metadata": {},
   "outputs": [
    {
     "data": {
      "text/plain": [
       "\"\\nnum_epochs = 200\\nfor epoch in range(num_epochs):\\n    for features, labels in trainLoader:\\n        # Forward pass\\n        predictions = model(features).squeeze()\\n        loss = criterion(predictions, labels)\\n\\n        # Backward pass and optimization\\n        optimizer.zero_grad()\\n        loss.backward()\\n        optimizer.step()\\n\\n    epochLoss.append(loss.item())\\n    if loss.item() < min_loss:\\n        min_loss = loss.item()\\n        minLossModel = model\\n\\n    if (epoch+1) % 10 == 0:\\n        print(f'Epoch [{epoch+1}/{num_epochs}], Loss: {loss.item():.4f}, minimum Loss: {min_loss:.4f}')\\n\\n\""
      ]
     },
     "execution_count": 53,
     "metadata": {},
     "output_type": "execute_result"
    }
   ],
   "source": [
    "## Extra epochs\n",
    "\"\"\"\n",
    "num_epochs = 200\n",
    "for epoch in range(num_epochs):\n",
    "    for features, labels in trainLoader:\n",
    "        # Forward pass\n",
    "        predictions = model(features).squeeze()\n",
    "        loss = criterion(predictions, labels)\n",
    "\n",
    "        # Backward pass and optimization\n",
    "        optimizer.zero_grad()\n",
    "        loss.backward()\n",
    "        optimizer.step()\n",
    "\n",
    "    epochLoss.append(loss.item())\n",
    "    if loss.item() < min_loss:\n",
    "        min_loss = loss.item()\n",
    "        minLossModel = model\n",
    "\n",
    "    if (epoch+1) % 10 == 0:\n",
    "        print(f'Epoch [{epoch+1}/{num_epochs}], Loss: {loss.item():.4f}, minimum Loss: {min_loss:.4f}')\n",
    "\n",
    "\"\"\""
   ]
  },
  {
   "cell_type": "markdown",
   "metadata": {},
   "source": [
    "# Evaluation"
   ]
  },
  {
   "cell_type": "code",
   "execution_count": 54,
   "metadata": {},
   "outputs": [
    {
     "name": "stdout",
     "output_type": "stream",
     "text": [
      "Accuracy: 0.4980\n",
      "Precision: 0.5430\n",
      "Recall: 0.2135\n",
      "F1 Score: 0.3065\n",
      "AUC Score: 0.4879\n",
      "Confusion Matrix:\n",
      "[[286  69]\n",
      " [302  82]]\n"
     ]
    }
   ],
   "source": [
    "from sklearn.metrics import accuracy_score, precision_score, recall_score, f1_score, confusion_matrix,roc_curve, roc_auc_score\n",
    "\n",
    "model.eval()  # Set the model to evaluation mode\n",
    "\n",
    "# Store probabilities, predictions and actuals\n",
    "probabilities = []\n",
    "predictions = []\n",
    "actuals = []\n",
    "\n",
    "with torch.no_grad():  # No need to track the gradients\n",
    "    for features, labels in testLoader:\n",
    "        # Forward pass to get output/prediction\n",
    "        outputs = model(features).squeeze()\n",
    "\n",
    "        # Since we're using sigmoid, we will round the outputs to get the binary class\n",
    "        predicted_classes = torch.round(outputs)\n",
    "        \n",
    "        if predicted_classes.ndim == 0:\n",
    "            predicted_classes = predicted_classes.unsqueeze(0)\n",
    "\n",
    "        # Store predictions and actual labels\n",
    "        probabilities.extend(outputs.cpu().numpy())\n",
    "        predictions.extend(predicted_classes.cpu().numpy())\n",
    "        actuals.extend(labels.cpu().numpy())\n",
    "\n",
    "# Convert lists to numpy arrays for evaluation\n",
    "probabilities_array = np.array(probabilities)\n",
    "predictions_array = np.array(predictions)\n",
    "actuals_array = np.array(actuals)\n",
    "\n",
    "# Calculate various classification metrics\n",
    "accuracy = accuracy_score(actuals_array, predictions_array)\n",
    "precision = precision_score(actuals_array, predictions_array)\n",
    "recall = recall_score(actuals_array, predictions_array)\n",
    "f1 = f1_score(actuals_array, predictions_array)\n",
    "conf_matrix = confusion_matrix(actuals_array, predictions_array)\n",
    "auc_score = roc_auc_score(actuals_array, probabilities_array)\n",
    "\n",
    "# Print out the metrics\n",
    "print(f'Accuracy: {accuracy:.4f}')\n",
    "print(f'Precision: {precision:.4f}')\n",
    "print(f'Recall: {recall:.4f}')\n",
    "print(f'F1 Score: {f1:.4f}')\n",
    "print(f'AUC Score: {auc_score:.4f}')\n",
    "print(f'Confusion Matrix:\\n{conf_matrix}')"
   ]
  },
  {
   "cell_type": "code",
   "execution_count": 55,
   "metadata": {},
   "outputs": [
    {
     "name": "stdout",
     "output_type": "stream",
     "text": [
      "Accuracy: 0.4980\n",
      "Precision: 0.5430\n",
      "Recall: 0.2135\n",
      "F1 Score: 0.3065\n",
      "AUC Score: 0.4879\n",
      "Confusion Matrix:\n",
      "[[286  69]\n",
      " [302  82]]\n"
     ]
    }
   ],
   "source": [
    "from sklearn.metrics import accuracy_score, precision_score, recall_score, f1_score, confusion_matrix,roc_curve, roc_auc_score\n",
    "\n",
    "minLossModel.eval()  # Set the minLossModel to evaluation mode\n",
    "\n",
    "# Store probabilities, predictions and actuals\n",
    "probabilities = []\n",
    "predictions = []\n",
    "actuals = []\n",
    "\n",
    "with torch.no_grad():  # No need to track the gradients\n",
    "    for features, labels in testLoader:\n",
    "        # Forward pass to get output/prediction\n",
    "        outputs = minLossModel(features).squeeze()\n",
    "\n",
    "        # Since we're using sigmoid, we will round the outputs to get the binary class\n",
    "        predicted_classes = torch.round(outputs)\n",
    "        \n",
    "        if predicted_classes.ndim == 0:\n",
    "            predicted_classes = predicted_classes.unsqueeze(0)\n",
    "\n",
    "        # Store predictions and actual labels\n",
    "        probabilities.extend(outputs.cpu().numpy())\n",
    "        predictions.extend(predicted_classes.cpu().numpy())\n",
    "        actuals.extend(labels.cpu().numpy())\n",
    "\n",
    "# Convert lists to numpy arrays for evaluation\n",
    "probabilities_array = np.array(probabilities)\n",
    "predictions_array = np.array(predictions)\n",
    "actuals_array = np.array(actuals)\n",
    "\n",
    "# Calculate various classification metrics\n",
    "accuracy = accuracy_score(actuals_array, predictions_array)\n",
    "precision = precision_score(actuals_array, predictions_array)\n",
    "recall = recall_score(actuals_array, predictions_array)\n",
    "f1 = f1_score(actuals_array, predictions_array)\n",
    "conf_matrix = confusion_matrix(actuals_array, predictions_array)\n",
    "auc_score = roc_auc_score(actuals_array, probabilities_array)\n",
    "\n",
    "# Print out the metrics\n",
    "print(f'Accuracy: {accuracy:.4f}')\n",
    "print(f'Precision: {precision:.4f}')\n",
    "print(f'Recall: {recall:.4f}')\n",
    "print(f'F1 Score: {f1:.4f}')\n",
    "print(f'AUC Score: {auc_score:.4f}')\n",
    "print(f'Confusion Matrix:\\n{conf_matrix}')"
   ]
  },
  {
   "cell_type": "code",
   "execution_count": 56,
   "metadata": {},
   "outputs": [
    {
     "name": "stdout",
     "output_type": "stream",
     "text": [
      "Evaluation for the  first 30 samples:\n",
      "Accuracy: 0.6667\n",
      "Precision: 0.6667\n",
      "Recall: 0.3333\n",
      "F1 Score: 0.4444\n",
      "Confusion Matrix:\n",
      "[[16  2]\n",
      " [ 8  4]]\n"
     ]
    }
   ],
   "source": [
    "predictions_array30 = predictions_array[:30]\n",
    "actuals_array30 = actuals_array[:30]\n",
    "\n",
    "# Calculate various classification metrics\n",
    "accuracy = accuracy_score(actuals_array30, predictions_array30)\n",
    "precision = precision_score(actuals_array30, predictions_array30)\n",
    "recall = recall_score(actuals_array30, predictions_array30)\n",
    "f1 = f1_score(actuals_array30, predictions_array30)\n",
    "conf_matrix = confusion_matrix(actuals_array30, predictions_array30)\n",
    "\n",
    "# Print out the metrics\n",
    "print(\"Evaluation for the  first 30 samples:\")\n",
    "print(f'Accuracy: {accuracy:.4f}')\n",
    "print(f'Precision: {precision:.4f}')\n",
    "print(f'Recall: {recall:.4f}')\n",
    "print(f'F1 Score: {f1:.4f}')\n",
    "print(f'Confusion Matrix:\\n{conf_matrix}')"
   ]
  },
  {
   "cell_type": "markdown",
   "metadata": {},
   "source": [
    "# Loss Curve"
   ]
  },
  {
   "cell_type": "code",
   "execution_count": 57,
   "metadata": {},
   "outputs": [
    {
     "data": {
      "text/plain": [
       "Text(0, 0.5, 'loss')"
      ]
     },
     "execution_count": 57,
     "metadata": {},
     "output_type": "execute_result"
    },
    {
     "data": {
      "image/png": "[encoded data removed]",
      "text/plain": [
       "<Figure size 1600x600 with 1 Axes>"
      ]
     },
     "metadata": {},
     "output_type": "display_data"
    }
   ],
   "source": [
    "plt.figure(figsize=(16,6))\n",
    "plt.plot(trainepochLoss)\n",
    "plt.plot(testepochLoss)\n",
    "plt.legend(['train loss', 'test loss'], loc='upper left')\n",
    "plt.title(\"loss curve\")\n",
    "plt.xlabel('epochs')\n",
    "plt.ylabel('loss')"
   ]
  },
  {
   "cell_type": "code",
   "execution_count": 58,
   "metadata": {},
   "outputs": [
    {
     "name": "stdout",
     "output_type": "stream",
     "text": [
      "\n",
      "Trading Strategy Performance:\n",
      "Cumulative Return: 12.41%\n",
      "Downside Deviation: 0.0095\n",
      "Sortino Ratio: 0.0182\n"
     ]
    }
   ],
   "source": [
    "\n",
    "probabilities_array = np.array(probabilities)\n",
    "\n",
    "predictions_array = (probabilities_array > 0.5).astype(int)\n",
    "actuals_array = np.array(actuals)\n",
    "\n",
    "# Download AAPL closing prices\n",
    "#aapl_closing = yf.download('AAPL', start='2018-01-01', end='2024-01-01')[\"Close\"]\n",
    "aapl_closing = pd.read_csv('AAPL_dollar_bars1516.csv')['Close']\n",
    "\n",
    "# Focus on the last 5% of the period\n",
    "last_five_percent = aapl_closing.tail(test_length+1)\n",
    "\n",
    "# Calculate daily returns for the last 5%\n",
    "actuals_daily_returns = np.diff(last_five_percent.values) / last_five_percent.values[:-1]\n",
    "\n",
    "# Ensure 'signals' is aligned in size with 'actuals_daily_returns'\n",
    "# This might involve slicing 'predictions_array' to match the exact period of 'last_five_percent'\n",
    "signals = predictions_array[-len(actuals_daily_returns):]  # Adjust this line as necessary\n",
    "\n",
    "# Calculate strategy daily returns\n",
    "strategy_daily_returns = signals * actuals_daily_returns\n",
    "\n",
    "# Calculate performance metrics\n",
    "cumulative_return = np.prod(strategy_daily_returns + 1) - 1\n",
    "negative_returns = strategy_daily_returns[strategy_daily_returns < 0]\n",
    "downside_deviation = np.sqrt(np.mean(negative_returns ** 2))\n",
    "expected_return = np.mean(strategy_daily_returns)\n",
    "risk_free_rate = 0  # Adjust as necessary\n",
    "sortino_ratio = (expected_return - risk_free_rate) / downside_deviation if downside_deviation != 0 else np.nan\n",
    "\n",
    "# Display Performance Metrics\n",
    "print(\"\\nTrading Strategy Performance:\")\n",
    "print(f\"Cumulative Return: {cumulative_return * 100:.2f}%\")\n",
    "print(f\"Downside Deviation: {downside_deviation:.4f}\")\n",
    "print(f\"Sortino Ratio: {sortino_ratio:.4f}\")"
   ]
  },
  {
   "cell_type": "code",
   "execution_count": 59,
   "metadata": {},
   "outputs": [
    {
     "data": {
      "text/plain": [
       "<matplotlib.legend.Legend at 0x2951dda1410>"
      ]
     },
     "execution_count": 59,
     "metadata": {},
     "output_type": "execute_result"
    },
    {
     "data": {
      "image/png": "[encoded data removed]",
      "text/plain": [
       "<Figure size 640x480 with 1 Axes>"
      ]
     },
     "metadata": {},
     "output_type": "display_data"
    }
   ],
   "source": [
    "plt.plot((strategy_daily_returns+1).cumprod())\n",
    "plt.plot((actuals_daily_returns+1).cumprod())\n",
    "plt.legend(['prediction', 'buy&hold'], loc='lower right')"
   ]
  },
  {
   "cell_type": "code",
   "execution_count": 60,
   "metadata": {},
   "outputs": [
    {
     "data": {
      "text/plain": [
       "[<matplotlib.lines.Line2D at 0x2951de8d190>]"
      ]
     },
     "execution_count": 60,
     "metadata": {},
     "output_type": "execute_result"
    },
    {
     "data": {
      "image/png": "[encoded data removed]",
      "text/plain": [
       "<Figure size 640x480 with 1 Axes>"
      ]
     },
     "metadata": {},
     "output_type": "display_data"
    }
   ],
   "source": [
    "plt.plot(strategy_daily_returns)"
   ]
  }
 ],
 "metadata": {
  "kernelspec": {
   "display_name": "base",
   "language": "python",
   "name": "python3"
  },
  "language_info": {
   "codemirror_mode": {
    "name": "ipython",
    "version": 3
   },
   "file_extension": ".py",
   "mimetype": "text/x-python",
   "name": "python",
   "nbconvert_exporter": "python",
   "pygments_lexer": "ipython3",
   "version": "3.11.5"
  },
  "orig_nbformat": 4
 },
 "nbformat": 4,
 "nbformat_minor": 2
}
