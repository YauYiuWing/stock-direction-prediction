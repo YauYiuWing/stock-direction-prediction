{
 "cells": [
  {
   "cell_type": "code",
   "execution_count": 13,
   "metadata": {},
   "outputs": [
    {
     "name": "stderr",
     "output_type": "stream",
     "text": [
      "c:\\Users\\adria\\miniconda3\\envs\\lorentzian\\lib\\site-packages\\yfinance\\utils.py:775: FutureWarning: The 'unit' keyword in TimedeltaIndex construction is deprecated and will be removed in a future version. Use pd.to_timedelta instead.\n",
      "  df.index += _pd.TimedeltaIndex(dst_error_hours, 'h')\n",
      "[*********************100%%**********************]  1 of 1 completed\n"
     ]
    }
   ],
   "source": [
    "from advanced_ta import LorentzianClassification\n",
    "import yfinance as yf\n",
    "import numpy as np\n",
    "import pandas as pd\n",
    "\n",
    "stock = yf.download('AAPL', start='2014-01-01', end='2024-01-01')\n",
    "#stock = pd.read_csv('AAPL_dollar_bars_1516_500M.csv')\n",
    "\n",
    "stock['open'] = stock['Open']\n",
    "stock['high'] = stock['High']\n",
    "stock['low'] = stock['Low']\n",
    "stock['close'] = stock['Close']\n",
    "stock['volume'] = stock['Volume']\n",
    "# df here is the dataframe containing stock data as [['open', 'high', 'low', 'close', 'volume']]. Notice that the column names are in lower case.\n",
    "lc = LorentzianClassification(stock)\n"
   ]
  },
  {
   "cell_type": "code",
   "execution_count": 14,
   "metadata": {},
   "outputs": [],
   "source": [
    "from advanced_ta import LorentzianClassification\n",
    "from ta.volume import money_flow_index as MFI\n",
    "\n",
    "# stock here is the dataframe containing stock data as [['open', 'high', 'low', 'close', 'volume']]. Notice that the column names are in lower case.\n",
    "lc = LorentzianClassification(\n",
    "        stock,\n",
    "        features=[\n",
    "            LorentzianClassification.Feature(\"RSI\", 21, 2),  # f1\n",
    "            LorentzianClassification.Feature(\"WT\", 10, 11),  # f2\n",
    "            LorentzianClassification.Feature(\"CCI\", 20, 2),  # f3\n",
    "            LorentzianClassification.Feature(\"ADX\", 20, 2),  # f4\n",
    "            LorentzianClassification.Feature(\"RSI\", 9, 2),   # f5\n",
    "            \n",
    "            #MFI(stock['high'], stock['low'], stock['close'], stock['volume'], 14) #f6\n",
    "        ],\n",
    "        settings=LorentzianClassification.Settings(\n",
    "            source=stock['close'],\n",
    "            neighborsCount=2,\n",
    "            maxBarsBack=20000,\n",
    "            useDynamicExits=False\n",
    "        ),\n",
    "        filterSettings=LorentzianClassification.FilterSettings(\n",
    "            useVolatilityFilter=True,\n",
    "            useRegimeFilter=True,\n",
    "            useAdxFilter=False,\n",
    "            regimeThreshold=-0.1,\n",
    "            adxThreshold=20,\n",
    "            kernelFilter = LorentzianClassification.KernelFilter(\n",
    "                useKernelSmoothing = False,\n",
    "                lookbackWindow = 8,\n",
    "                relativeWeight = 8.0,\n",
    "                regressionLevel = 25,\n",
    "                crossoverLag = 2\n",
    "            )\n",
    "        ))"
   ]
  },
  {
   "cell_type": "code",
   "execution_count": 15,
   "metadata": {},
   "outputs": [],
   "source": [
    "stock[\"Tomorrow\"] = stock[\"Close\"].shift(-1)\n",
    "stock['diff'] = stock['Close'].diff()\n",
    "stock[\"Target\"] = (stock[\"Tomorrow\"]> stock[\"Close\"]).astype(int)\n",
    "labels = stock['Target']"
   ]
  },
  {
   "cell_type": "code",
   "execution_count": 16,
   "metadata": {},
   "outputs": [
    {
     "name": "stderr",
     "output_type": "stream",
     "text": [
      "C:\\Users\\adria\\AppData\\Local\\Temp\\ipykernel_14704\\1336794953.py:1: FutureWarning: Downcasting behavior in `replace` is deprecated and will be removed in a future version. To retain the old behavior, explicitly call `result.infer_objects(copy=False)`. To opt-in to the future behavior, set `pd.set_option('future.no_silent_downcasting', True)`\n",
      "  lc.data['signal'] = lc.data['signal'].replace(-1, 0)\n"
     ]
    }
   ],
   "source": [
    "lc.data['signal'] = lc.data['signal'].replace(-1, 0)\n",
    "#prediction_array = lc.data['signal']\n",
    "prediction_array = (lc.data['prediction'] > 0).astype(int)"
   ]
  },
  {
   "cell_type": "code",
   "execution_count": 17,
   "metadata": {},
   "outputs": [
    {
     "name": "stdout",
     "output_type": "stream",
     "text": [
      "\n",
      "Trading Strategy Performance:\n",
      "Cumulative Return: 29931.61%\n",
      "Downside Deviation: 0.0112\n",
      "Sortino Ratio: 0.2084\n"
     ]
    }
   ],
   "source": [
    "\n",
    "# Download AAPL closing prices\n",
    "#aapl_closing = yf.download('AAPL', start='2018-01-01', end='2024-01-01')[\"Close\"]\n",
    "#aapl_closing = pd.read_csv('AAPL_dollar_bars1516.csv')['Close']\n",
    "\n",
    "# Focus on the last 5% of the period\n",
    "\n",
    "\n",
    "# Calculate daily returns for the last 5%\n",
    "maxBarsBack = 0\n",
    "\n",
    "actuals_daily_returns = lc.data['close'].pct_change()\n",
    "\n",
    "# Ensure 'signals' is aligned in size with 'actuals_daily_returns'\n",
    "# This might involve slicing 'predictions_array' to match the exact period of 'last_five_percent'\n",
    "signals = prediction_array[-len(actuals_daily_returns):]  # Adjust this line as necessary\n",
    "#signals = (actuals_daily_returns > 0).astype(int)\n",
    "# Calculate strategy daily returns\n",
    "strategy_daily_returns = signals * actuals_daily_returns\n",
    "\n",
    "strategy_daily_returns = strategy_daily_returns[maxBarsBack:]\n",
    "actuals_daily_returns = actuals_daily_returns[maxBarsBack:]\n",
    "# Calculate performance metrics\n",
    "cumulative_return = np.prod(strategy_daily_returns + 1) - 1\n",
    "negative_returns = strategy_daily_returns[strategy_daily_returns < 0]\n",
    "downside_deviation = np.sqrt(np.mean(negative_returns ** 2))\n",
    "expected_return = np.mean(strategy_daily_returns)\n",
    "risk_free_rate = 0  # Adjust as necessary\n",
    "sortino_ratio = (expected_return - risk_free_rate) / downside_deviation if downside_deviation != 0 else np.nan\n",
    "\n",
    "# Display Performance Metrics\n",
    "print(\"\\nTrading Strategy Performance:\")\n",
    "print(f\"Cumulative Return: {cumulative_return * 100:.2f}%\")\n",
    "print(f\"Downside Deviation: {downside_deviation:.4f}\")\n",
    "print(f\"Sortino Ratio: {sortino_ratio:.4f}\")"
   ]
  },
  {
   "cell_type": "code",
   "execution_count": 18,
   "metadata": {},
   "outputs": [
    {
     "data": {
      "text/plain": [
       "0.45522589155297355"
      ]
     },
     "execution_count": 18,
     "metadata": {},
     "output_type": "execute_result"
    }
   ],
   "source": [
    "def sharpe(returns, risk_free=0):\n",
    "    adj_returns = returns - risk_free\n",
    "    return (np.nanmean(adj_returns) * np.sqrt(252)) \\\n",
    "        / np.nanstd(adj_returns, ddof=1)\n",
    "\n",
    "def downside_risk(returns, risk_free=0):\n",
    "    adj_returns = returns - risk_free\n",
    "    sqr_downside = np.square(np.clip(adj_returns, np.NINF, 0))\n",
    "    return np.sqrt(np.nanmean(sqr_downside) * 252)\n",
    "\n",
    "\n",
    "def sortino(returns, risk_free=0):\n",
    "    adj_returns = returns - risk_free\n",
    "    drisk = downside_risk(adj_returns)\n",
    "\n",
    "    if drisk == 0:\n",
    "        return np.nan\n",
    "\n",
    "    return (np.nanmean(adj_returns) * np.sqrt(252)) \\\n",
    "        / drisk\n",
    "\n",
    "sortino(strategy_daily_returns)"
   ]
  },
  {
   "cell_type": "code",
   "execution_count": 19,
   "metadata": {},
   "outputs": [
    {
     "name": "stdout",
     "output_type": "stream",
     "text": [
      "For Lorentzian classification predictions\n",
      "Accuracy: 0.5886\n",
      "Precision: 0.6080\n",
      "Recall: 0.6212\n",
      "F1 Score: 0.6145\n",
      "Confusion Matrix:\n",
      "[[656 532]\n",
      " [503 825]]\n"
     ]
    }
   ],
   "source": [
    "from sklearn.metrics import accuracy_score, precision_score, recall_score, f1_score, confusion_matrix\n",
    "\n",
    "\n",
    "actuals_array = (actuals_daily_returns > 0).astype(int)\n",
    "predictions_array = signals.tolist()[maxBarsBack:]\n",
    "\n",
    "# Calculate various classification metrics\n",
    "accuracy = accuracy_score(actuals_array, predictions_array)\n",
    "precision = precision_score(actuals_array, predictions_array)\n",
    "recall = recall_score(actuals_array, predictions_array)\n",
    "f1 = f1_score(actuals_array, predictions_array)\n",
    "conf_matrix = confusion_matrix(actuals_array, predictions_array)\n",
    "\n",
    "\n",
    "# Print out the metrics\n",
    "print(\"For Lorentzian classification predictions\")\n",
    "print(f'Accuracy: {accuracy:.4f}')\n",
    "print(f'Precision: {precision:.4f}')\n",
    "print(f'Recall: {recall:.4f}')\n",
    "print(f'F1 Score: {f1:.4f}')\n",
    "print(f'Confusion Matrix:\\n{conf_matrix}')"
   ]
  },
  {
   "cell_type": "code",
   "execution_count": 20,
   "metadata": {},
   "outputs": [
    {
     "name": "stdout",
     "output_type": "stream",
     "text": [
      "For buy and hold\n",
      "Accuracy: 0.5278\n",
      "Precision: 0.5278\n",
      "Recall: 1.0000\n",
      "F1 Score: 0.6909\n",
      "Confusion Matrix:\n",
      "[[   0 1188]\n",
      " [   0 1328]]\n"
     ]
    }
   ],
   "source": [
    "actuals_array = (actuals_daily_returns > 0).astype(int)\n",
    "buyAndHold = np.ones(len(actuals_array)) \n",
    "\n",
    "\n",
    "# Calculate various classification metrics\n",
    "accuracy = accuracy_score(actuals_array, buyAndHold)\n",
    "precision = precision_score(actuals_array, buyAndHold)\n",
    "recall = recall_score(actuals_array, buyAndHold)\n",
    "f1 = f1_score(actuals_array, buyAndHold)\n",
    "conf_matrix = confusion_matrix(actuals_array, buyAndHold)\n",
    "\n",
    "\n",
    "# Print out the metrics\n",
    "print(\"For buy and hold\")\n",
    "print(f'Accuracy: {accuracy:.4f}')\n",
    "print(f'Precision: {precision:.4f}')\n",
    "print(f'Recall: {recall:.4f}')\n",
    "print(f'F1 Score: {f1:.4f}')\n",
    "print(f'Confusion Matrix:\\n{conf_matrix}')"
   ]
  },
  {
   "cell_type": "code",
   "execution_count": 21,
   "metadata": {},
   "outputs": [
    {
     "data": {
      "text/plain": [
       "<matplotlib.legend.Legend at 0x1ec67c6b1f0>"
      ]
     },
     "execution_count": 21,
     "metadata": {},
     "output_type": "execute_result"
    },
    {
     "data": {
      "image/png": "[encoded data removed]",
      "text/plain": [
       "<Figure size 640x480 with 1 Axes>"
      ]
     },
     "metadata": {},
     "output_type": "display_data"
    }
   ],
   "source": [
    "import matplotlib.pyplot as plt\n",
    "plt.title('cumulative_return')\n",
    "plt.plot((strategy_daily_returns+1)[-252:].cumprod())\n",
    "plt.plot((actuals_daily_returns+1)[-252:].cumprod())\n",
    "plt.legend(['prediction', 'buy&hold'], loc='upper left')"
   ]
  },
  {
   "cell_type": "code",
   "execution_count": 22,
   "metadata": {},
   "outputs": [
    {
     "data": {
      "text/plain": [
       "(0.002325261933232925, 0.0010657190793902645)"
      ]
     },
     "execution_count": 22,
     "metadata": {},
     "output_type": "execute_result"
    }
   ],
   "source": [
    "np.mean(strategy_daily_returns),np.mean(actuals_daily_returns)"
   ]
  },
  {
   "cell_type": "code",
   "execution_count": 23,
   "metadata": {},
   "outputs": [
    {
     "data": {
      "text/plain": [
       "0.024738061692643736"
      ]
     },
     "execution_count": 23,
     "metadata": {},
     "output_type": "execute_result"
    }
   ],
   "source": [
    "stock['prediction'] = lc.data['prediction']\n",
    "stock['signal'] = lc.data['signal']\n",
    "stock['Target'].corr(stock['signal'])"
   ]
  },
  {
   "cell_type": "code",
   "execution_count": 24,
   "metadata": {},
   "outputs": [
    {
     "data": {
      "text/plain": [
       "Date\n",
       "2014-01-02    0\n",
       "2014-01-03    0\n",
       "2014-01-06    0\n",
       "2014-01-07    0\n",
       "2014-01-08    0\n",
       "             ..\n",
       "2023-12-22   -2\n",
       "2023-12-26   -2\n",
       "2023-12-27   -2\n",
       "2023-12-28   -2\n",
       "2023-12-29   -2\n",
       "Name: prediction, Length: 2516, dtype: int32"
      ]
     },
     "execution_count": 24,
     "metadata": {},
     "output_type": "execute_result"
    }
   ],
   "source": [
    "stock['prediction']"
   ]
  }
 ],
 "metadata": {
  "kernelspec": {
   "display_name": "base",
   "language": "python",
   "name": "python3"
  },
  "language_info": {
   "codemirror_mode": {
    "name": "ipython",
    "version": 3
   },
   "file_extension": ".py",
   "mimetype": "text/x-python",
   "name": "python",
   "nbconvert_exporter": "python",
   "pygments_lexer": "ipython3",
   "version": "3.10.13"
  },
  "orig_nbformat": 4
 },
 "nbformat": 4,
 "nbformat_minor": 2
}
