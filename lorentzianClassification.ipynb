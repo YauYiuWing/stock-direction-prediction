{
 "cells": [
  {
   "cell_type": "code",
   "execution_count": 31,
   "metadata": {},
   "outputs": [
    {
     "name": "stderr",
     "output_type": "stream",
     "text": [
      "c:\\Conda\\Lib\\site-packages\\yfinance\\utils.py:775: FutureWarning: The 'unit' keyword in TimedeltaIndex construction is deprecated and will be removed in a future version. Use pd.to_timedelta instead.\n",
      "  df.index += _pd.TimedeltaIndex(dst_error_hours, 'h')\n",
      "[*********************100%%**********************]  1 of 1 completed"
     ]
    },
    {
     "name": "stderr",
     "output_type": "stream",
     "text": [
      "\n"
     ]
    }
   ],
   "source": [
    "from advanced_ta import LorentzianClassification\n",
    "import yfinance as yf\n",
    "import numpy as np\n",
    "import pandas as pd\n",
    "\n",
    "aapl = yf.download('AAPL', start='2010-01-01', end='2024-01-01')\n",
    "aapl['open'] = aapl['Open']\n",
    "aapl['high'] = aapl['High']\n",
    "aapl['low'] = aapl['Low']\n",
    "aapl['close'] = aapl['Close']\n",
    "aapl['volume'] = aapl['Volume']\n",
    "# df here is the dataframe containing stock data as [['open', 'high', 'low', 'close', 'volume']]. Notice that the column names are in lower case.\n",
    "lc = LorentzianClassification(aapl)\n"
   ]
  },
  {
   "cell_type": "code",
   "execution_count": 32,
   "metadata": {},
   "outputs": [],
   "source": [
    "aapl[\"Tomorrow\"] = aapl[\"Close\"].shift(-1)\n",
    "aapl['diff'] = aapl['Close'].diff()\n",
    "aapl[\"Target\"] = (aapl[\"Tomorrow\"]> aapl[\"Close\"]).astype(int)\n",
    "labels = aapl['Target']"
   ]
  },
  {
   "cell_type": "code",
   "execution_count": 33,
   "metadata": {},
   "outputs": [
    {
     "name": "stderr",
     "output_type": "stream",
     "text": [
      "C:\\Users\\Adrian Yau\\AppData\\Local\\Temp\\ipykernel_26648\\1788300437.py:1: FutureWarning: Downcasting behavior in `replace` is deprecated and will be removed in a future version. To retain the old behavior, explicitly call `result.infer_objects(copy=False)`. To opt-in to the future behavior, set `pd.set_option('future.no_silent_downcasting', True)`\n",
      "  lc.data['signal'] = lc.data['signal'].replace(-1, 0)\n"
     ]
    }
   ],
   "source": [
    "lc.data['signal'] = lc.data['signal'].replace(-1, 0)\n",
    "prediction_array = lc.data['signal']"
   ]
  },
  {
   "cell_type": "code",
   "execution_count": 34,
   "metadata": {},
   "outputs": [
    {
     "name": "stdout",
     "output_type": "stream",
     "text": [
      "\n",
      "Trading Strategy Performance:\n",
      "Cumulative Return: 1038.91%\n",
      "Downside Deviation: 0.0133\n",
      "Sortino Ratio: 0.1252\n"
     ]
    }
   ],
   "source": [
    "\n",
    "# Download AAPL closing prices\n",
    "#aapl_closing = yf.download('AAPL', start='2018-01-01', end='2024-01-01')[\"Close\"]\n",
    "#aapl_closing = pd.read_csv('AAPL_dollar_bars1516.csv')['Close']\n",
    "\n",
    "# Focus on the last 5% of the period\n",
    "\n",
    "\n",
    "# Calculate daily returns for the last 5%\n",
    "maxBarsBack = 2000\n",
    "\n",
    "actuals_daily_returns = lc.data['close'].pct_change()\n",
    "\n",
    "# Ensure 'signals' is aligned in size with 'actuals_daily_returns'\n",
    "# This might involve slicing 'predictions_array' to match the exact period of 'last_five_percent'\n",
    "signals = prediction_array[-len(actuals_daily_returns):]  # Adjust this line as necessary\n",
    "\n",
    "# Calculate strategy daily returns\n",
    "strategy_daily_returns = signals * actuals_daily_returns\n",
    "\n",
    "strategy_daily_returns = strategy_daily_returns[maxBarsBack:]\n",
    "actuals_daily_returns = actuals_daily_returns[maxBarsBack:]\n",
    "# Calculate performance metrics\n",
    "cumulative_return = np.prod(strategy_daily_returns + 1) - 1\n",
    "negative_returns = strategy_daily_returns[strategy_daily_returns < 0]\n",
    "downside_deviation = np.sqrt(np.mean(negative_returns ** 2))\n",
    "expected_return = np.mean(strategy_daily_returns)\n",
    "risk_free_rate = 0  # Adjust as necessary\n",
    "sortino_ratio = (expected_return - risk_free_rate) / downside_deviation if downside_deviation != 0 else np.nan\n",
    "\n",
    "# Display Performance Metrics\n",
    "print(\"\\nTrading Strategy Performance:\")\n",
    "print(f\"Cumulative Return: {cumulative_return * 100:.2f}%\")\n",
    "print(f\"Downside Deviation: {downside_deviation:.4f}\")\n",
    "print(f\"Sortino Ratio: {sortino_ratio:.4f}\")"
   ]
  },
  {
   "cell_type": "code",
   "execution_count": 35,
   "metadata": {},
   "outputs": [
    {
     "name": "stdout",
     "output_type": "stream",
     "text": [
      "For Lorentzian classification predictions\n",
      "Accuracy: 0.5329\n",
      "Precision: 0.5600\n",
      "Recall: 0.5649\n",
      "F1 Score: 0.5625\n",
      "Confusion Matrix:\n",
      "[[354 359]\n",
      " [352 457]]\n"
     ]
    }
   ],
   "source": [
    "from sklearn.metrics import accuracy_score, precision_score, recall_score, f1_score, confusion_matrix\n",
    "\n",
    "\n",
    "actuals_array = (actuals_daily_returns > 0).astype(int)\n",
    "predictions_array = signals.tolist()[maxBarsBack:]\n",
    "\n",
    "# Calculate various classification metrics\n",
    "accuracy = accuracy_score(actuals_array, predictions_array)\n",
    "precision = precision_score(actuals_array, predictions_array)\n",
    "recall = recall_score(actuals_array, predictions_array)\n",
    "f1 = f1_score(actuals_array, predictions_array)\n",
    "conf_matrix = confusion_matrix(actuals_array, predictions_array)\n",
    "\n",
    "\n",
    "# Print out the metrics\n",
    "print(\"For Lorentzian classification predictions\")\n",
    "print(f'Accuracy: {accuracy:.4f}')\n",
    "print(f'Precision: {precision:.4f}')\n",
    "print(f'Recall: {recall:.4f}')\n",
    "print(f'F1 Score: {f1:.4f}')\n",
    "print(f'Confusion Matrix:\\n{conf_matrix}')"
   ]
  },
  {
   "cell_type": "code",
   "execution_count": 36,
   "metadata": {},
   "outputs": [
    {
     "name": "stdout",
     "output_type": "stream",
     "text": [
      "For buy and hold\n",
      "Accuracy: 0.5315\n",
      "Precision: 0.5315\n",
      "Recall: 1.0000\n",
      "F1 Score: 0.6941\n",
      "Confusion Matrix:\n",
      "[[  0 713]\n",
      " [  0 809]]\n"
     ]
    }
   ],
   "source": [
    "actuals_array = (actuals_daily_returns > 0).astype(int)\n",
    "buyAndHold = np.ones(len(actuals_array)) \n",
    "\n",
    "\n",
    "# Calculate various classification metrics\n",
    "accuracy = accuracy_score(actuals_array, buyAndHold)\n",
    "precision = precision_score(actuals_array, buyAndHold)\n",
    "recall = recall_score(actuals_array, buyAndHold)\n",
    "f1 = f1_score(actuals_array, buyAndHold)\n",
    "conf_matrix = confusion_matrix(actuals_array, buyAndHold)\n",
    "\n",
    "\n",
    "# Print out the metrics\n",
    "print(\"For buy and hold\")\n",
    "print(f'Accuracy: {accuracy:.4f}')\n",
    "print(f'Precision: {precision:.4f}')\n",
    "print(f'Recall: {recall:.4f}')\n",
    "print(f'F1 Score: {f1:.4f}')\n",
    "print(f'Confusion Matrix:\\n{conf_matrix}')"
   ]
  },
  {
   "cell_type": "code",
   "execution_count": 37,
   "metadata": {},
   "outputs": [
    {
     "data": {
      "text/plain": [
       "<matplotlib.legend.Legend at 0x223c0eb3b50>"
      ]
     },
     "execution_count": 37,
     "metadata": {},
     "output_type": "execute_result"
    },
    {
     "data": {
      "image/png": "[encoded data removed]",
      "text/plain": [
       "<Figure size 640x480 with 1 Axes>"
      ]
     },
     "metadata": {},
     "output_type": "display_data"
    }
   ],
   "source": [
    "import matplotlib.pyplot as plt\n",
    "plt.title('cumulative_return')\n",
    "plt.plot((strategy_daily_returns+1).cumprod())\n",
    "plt.plot((actuals_daily_returns+1).cumprod())\n",
    "plt.legend(['prediction', 'buy&hold'], loc='lower right')"
   ]
  }
 ],
 "metadata": {
  "kernelspec": {
   "display_name": "base",
   "language": "python",
   "name": "python3"
  },
  "language_info": {
   "codemirror_mode": {
    "name": "ipython",
    "version": 3
   },
   "file_extension": ".py",
   "mimetype": "text/x-python",
   "name": "python",
   "nbconvert_exporter": "python",
   "pygments_lexer": "ipython3",
   "version": "3.11.5"
  },
  "orig_nbformat": 4
 },
 "nbformat": 4,
 "nbformat_minor": 2
}
